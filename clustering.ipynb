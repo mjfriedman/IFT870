{
 "cells": [
  {
   "cell_type": "markdown",
   "metadata": {},
   "source": [
    "### Clustering"
   ]
  },
  {
   "cell_type": "code",
   "execution_count": 157,
   "metadata": {},
   "outputs": [
    {
     "name": "stdout",
     "output_type": "stream",
     "text": [
      "Defaulting to user installation because normal site-packages is not writeable\n",
      "Requirement already satisfied: pyclustering in c:\\users\\user\\appdata\\roaming\\python\\python312\\site-packages (0.10.1.2)\n",
      "Requirement already satisfied: scipy>=1.1.0 in c:\\users\\user\\appdata\\roaming\\python\\python312\\site-packages (from pyclustering) (1.12.0)\n",
      "Requirement already satisfied: matplotlib>=3.0.0 in c:\\users\\user\\appdata\\roaming\\python\\python312\\site-packages (from pyclustering) (3.8.3)\n",
      "Requirement already satisfied: numpy>=1.15.2 in c:\\users\\user\\appdata\\roaming\\python\\python312\\site-packages (from pyclustering) (1.26.3)\n",
      "Requirement already satisfied: Pillow>=5.2.0 in c:\\users\\user\\appdata\\roaming\\python\\python312\\site-packages (from pyclustering) (10.2.0)\n",
      "Requirement already satisfied: contourpy>=1.0.1 in c:\\users\\user\\appdata\\roaming\\python\\python312\\site-packages (from matplotlib>=3.0.0->pyclustering) (1.2.0)\n",
      "Requirement already satisfied: cycler>=0.10 in c:\\users\\user\\appdata\\roaming\\python\\python312\\site-packages (from matplotlib>=3.0.0->pyclustering) (0.12.1)\n",
      "Requirement already satisfied: fonttools>=4.22.0 in c:\\users\\user\\appdata\\roaming\\python\\python312\\site-packages (from matplotlib>=3.0.0->pyclustering) (4.49.0)\n",
      "Requirement already satisfied: kiwisolver>=1.3.1 in c:\\users\\user\\appdata\\roaming\\python\\python312\\site-packages (from matplotlib>=3.0.0->pyclustering) (1.4.5)\n",
      "Requirement already satisfied: packaging>=20.0 in c:\\users\\user\\appdata\\roaming\\python\\python312\\site-packages (from matplotlib>=3.0.0->pyclustering) (23.2)\n",
      "Requirement already satisfied: pyparsing>=2.3.1 in c:\\users\\user\\appdata\\roaming\\python\\python312\\site-packages (from matplotlib>=3.0.0->pyclustering) (3.1.1)\n",
      "Requirement already satisfied: python-dateutil>=2.7 in c:\\users\\user\\appdata\\roaming\\python\\python312\\site-packages (from matplotlib>=3.0.0->pyclustering) (2.8.2)\n",
      "Requirement already satisfied: six>=1.5 in c:\\users\\user\\appdata\\roaming\\python\\python312\\site-packages (from python-dateutil>=2.7->matplotlib>=3.0.0->pyclustering) (1.16.0)\n",
      "Defaulting to user installation because normal site-packages is not writeable\n",
      "Requirement already satisfied: scikit-learn-extra in c:\\users\\user\\appdata\\roaming\\python\\python312\\site-packages (0.3.0)\n",
      "Requirement already satisfied: numpy>=1.13.3 in c:\\users\\user\\appdata\\roaming\\python\\python312\\site-packages (from scikit-learn-extra) (1.26.3)\n",
      "Requirement already satisfied: scipy>=0.19.1 in c:\\users\\user\\appdata\\roaming\\python\\python312\\site-packages (from scikit-learn-extra) (1.12.0)\n",
      "Requirement already satisfied: scikit-learn>=0.23.0 in c:\\users\\user\\appdata\\roaming\\python\\python312\\site-packages (from scikit-learn-extra) (1.4.1.post1)\n",
      "Requirement already satisfied: joblib>=1.2.0 in c:\\users\\user\\appdata\\roaming\\python\\python312\\site-packages (from scikit-learn>=0.23.0->scikit-learn-extra) (1.3.2)\n",
      "Requirement already satisfied: threadpoolctl>=2.0.0 in c:\\users\\user\\appdata\\roaming\\python\\python312\\site-packages (from scikit-learn>=0.23.0->scikit-learn-extra) (3.3.0)\n"
     ]
    }
   ],
   "source": [
    "! pip install pyclustering\n",
    "! pip install scikit-learn-extra"
   ]
  },
  {
   "cell_type": "code",
   "execution_count": 158,
   "metadata": {},
   "outputs": [],
   "source": [
    "import numpy as np\n",
    "import pandas as pd\n",
    "from sklearn.cluster import KMeans\n",
    "from sklearn.metrics import silhouette_score\n",
    "import matplotlib.pyplot as plt\n",
    "import plotly.express as px\n"
   ]
  },
  {
   "cell_type": "code",
   "execution_count": 159,
   "metadata": {},
   "outputs": [],
   "source": [
    "data = pd.read_excel(\"covid_and_coordinates.xlsx\")"
   ]
  },
  {
   "cell_type": "code",
   "execution_count": 160,
   "metadata": {},
   "outputs": [
    {
     "data": {
      "text/html": [
       "<div>\n",
       "<style scoped>\n",
       "    .dataframe tbody tr th:only-of-type {\n",
       "        vertical-align: middle;\n",
       "    }\n",
       "\n",
       "    .dataframe tbody tr th {\n",
       "        vertical-align: top;\n",
       "    }\n",
       "\n",
       "    .dataframe thead th {\n",
       "        text-align: right;\n",
       "    }\n",
       "</style>\n",
       "<table border=\"1\" class=\"dataframe\">\n",
       "  <thead>\n",
       "    <tr style=\"text-align: right;\">\n",
       "      <th></th>\n",
       "      <th>Country</th>\n",
       "      <th>Country_code</th>\n",
       "      <th>WHO Region</th>\n",
       "      <th>Cases - cumulative total</th>\n",
       "      <th>Cases - cumulative total per 100000 population</th>\n",
       "      <th>Deaths - cumulative total</th>\n",
       "      <th>Deaths - cumulative total per 100000 population</th>\n",
       "      <th>Latitude</th>\n",
       "      <th>Longitude</th>\n",
       "    </tr>\n",
       "  </thead>\n",
       "  <tbody>\n",
       "    <tr>\n",
       "      <th>0</th>\n",
       "      <td>occupied Palestinian territory, including east...</td>\n",
       "      <td>PS</td>\n",
       "      <td>Eastern Mediterranean</td>\n",
       "      <td>703228</td>\n",
       "      <td>13785</td>\n",
       "      <td>5708</td>\n",
       "      <td>112</td>\n",
       "      <td>31.952162</td>\n",
       "      <td>35.233154</td>\n",
       "    </tr>\n",
       "    <tr>\n",
       "      <th>1</th>\n",
       "      <td>Sweden</td>\n",
       "      <td>SE</td>\n",
       "      <td>Europe</td>\n",
       "      <td>2751035</td>\n",
       "      <td>26638</td>\n",
       "      <td>27219</td>\n",
       "      <td>264</td>\n",
       "      <td>60.128161</td>\n",
       "      <td>18.643501</td>\n",
       "    </tr>\n",
       "    <tr>\n",
       "      <th>2</th>\n",
       "      <td>Kosovo</td>\n",
       "      <td>XK</td>\n",
       "      <td>Europe</td>\n",
       "      <td>274279</td>\n",
       "      <td>15274</td>\n",
       "      <td>3212</td>\n",
       "      <td>179</td>\n",
       "      <td>42.602636</td>\n",
       "      <td>20.902977</td>\n",
       "    </tr>\n",
       "    <tr>\n",
       "      <th>3</th>\n",
       "      <td>Iraq</td>\n",
       "      <td>IQ</td>\n",
       "      <td>Eastern Mediterranean</td>\n",
       "      <td>2465545</td>\n",
       "      <td>6130</td>\n",
       "      <td>25375</td>\n",
       "      <td>63</td>\n",
       "      <td>33.223191</td>\n",
       "      <td>43.679291</td>\n",
       "    </tr>\n",
       "    <tr>\n",
       "      <th>4</th>\n",
       "      <td>Russian Federation</td>\n",
       "      <td>RU</td>\n",
       "      <td>Europe</td>\n",
       "      <td>23983621</td>\n",
       "      <td>16435</td>\n",
       "      <td>402232</td>\n",
       "      <td>276</td>\n",
       "      <td>61.524010</td>\n",
       "      <td>105.318756</td>\n",
       "    </tr>\n",
       "    <tr>\n",
       "      <th>...</th>\n",
       "      <td>...</td>\n",
       "      <td>...</td>\n",
       "      <td>...</td>\n",
       "      <td>...</td>\n",
       "      <td>...</td>\n",
       "      <td>...</td>\n",
       "      <td>...</td>\n",
       "      <td>...</td>\n",
       "      <td>...</td>\n",
       "    </tr>\n",
       "    <tr>\n",
       "      <th>215</th>\n",
       "      <td>North Macedonia</td>\n",
       "      <td>MK</td>\n",
       "      <td>Europe</td>\n",
       "      <td>350555</td>\n",
       "      <td>16826</td>\n",
       "      <td>9975</td>\n",
       "      <td>479</td>\n",
       "      <td>41.608635</td>\n",
       "      <td>21.745275</td>\n",
       "    </tr>\n",
       "    <tr>\n",
       "      <th>216</th>\n",
       "      <td>Somalia</td>\n",
       "      <td>SO</td>\n",
       "      <td>Eastern Mediterranean</td>\n",
       "      <td>27334</td>\n",
       "      <td>172</td>\n",
       "      <td>1361</td>\n",
       "      <td>9</td>\n",
       "      <td>5.152149</td>\n",
       "      <td>46.199616</td>\n",
       "    </tr>\n",
       "    <tr>\n",
       "      <th>217</th>\n",
       "      <td>Slovakia</td>\n",
       "      <td>SK</td>\n",
       "      <td>Europe</td>\n",
       "      <td>1877558</td>\n",
       "      <td>34401</td>\n",
       "      <td>21224</td>\n",
       "      <td>389</td>\n",
       "      <td>48.669026</td>\n",
       "      <td>19.699024</td>\n",
       "    </tr>\n",
       "    <tr>\n",
       "      <th>218</th>\n",
       "      <td>Ireland</td>\n",
       "      <td>IE</td>\n",
       "      <td>Europe</td>\n",
       "      <td>1734506</td>\n",
       "      <td>34939</td>\n",
       "      <td>9539</td>\n",
       "      <td>192</td>\n",
       "      <td>53.412910</td>\n",
       "      <td>-8.243890</td>\n",
       "    </tr>\n",
       "    <tr>\n",
       "      <th>219</th>\n",
       "      <td>Slovenia</td>\n",
       "      <td>SI</td>\n",
       "      <td>Europe</td>\n",
       "      <td>1355769</td>\n",
       "      <td>64688</td>\n",
       "      <td>10034</td>\n",
       "      <td>479</td>\n",
       "      <td>46.151241</td>\n",
       "      <td>14.995463</td>\n",
       "    </tr>\n",
       "  </tbody>\n",
       "</table>\n",
       "<p>220 rows × 9 columns</p>\n",
       "</div>"
      ],
      "text/plain": [
       "                                               Country Country_code  \\\n",
       "0    occupied Palestinian territory, including east...           PS   \n",
       "1                                               Sweden           SE   \n",
       "2                                               Kosovo           XK   \n",
       "3                                                 Iraq           IQ   \n",
       "4                                   Russian Federation           RU   \n",
       "..                                                 ...          ...   \n",
       "215                                    North Macedonia           MK   \n",
       "216                                            Somalia           SO   \n",
       "217                                           Slovakia           SK   \n",
       "218                                            Ireland           IE   \n",
       "219                                           Slovenia           SI   \n",
       "\n",
       "                WHO Region  Cases - cumulative total  \\\n",
       "0    Eastern Mediterranean                    703228   \n",
       "1                   Europe                   2751035   \n",
       "2                   Europe                    274279   \n",
       "3    Eastern Mediterranean                   2465545   \n",
       "4                   Europe                  23983621   \n",
       "..                     ...                       ...   \n",
       "215                 Europe                    350555   \n",
       "216  Eastern Mediterranean                     27334   \n",
       "217                 Europe                   1877558   \n",
       "218                 Europe                   1734506   \n",
       "219                 Europe                   1355769   \n",
       "\n",
       "     Cases - cumulative total per 100000 population  \\\n",
       "0                                             13785   \n",
       "1                                             26638   \n",
       "2                                             15274   \n",
       "3                                              6130   \n",
       "4                                             16435   \n",
       "..                                              ...   \n",
       "215                                           16826   \n",
       "216                                             172   \n",
       "217                                           34401   \n",
       "218                                           34939   \n",
       "219                                           64688   \n",
       "\n",
       "     Deaths - cumulative total  \\\n",
       "0                         5708   \n",
       "1                        27219   \n",
       "2                         3212   \n",
       "3                        25375   \n",
       "4                       402232   \n",
       "..                         ...   \n",
       "215                       9975   \n",
       "216                       1361   \n",
       "217                      21224   \n",
       "218                       9539   \n",
       "219                      10034   \n",
       "\n",
       "     Deaths - cumulative total per 100000 population   Latitude   Longitude  \n",
       "0                                                112  31.952162   35.233154  \n",
       "1                                                264  60.128161   18.643501  \n",
       "2                                                179  42.602636   20.902977  \n",
       "3                                                 63  33.223191   43.679291  \n",
       "4                                                276  61.524010  105.318756  \n",
       "..                                               ...        ...         ...  \n",
       "215                                              479  41.608635   21.745275  \n",
       "216                                                9   5.152149   46.199616  \n",
       "217                                              389  48.669026   19.699024  \n",
       "218                                              192  53.412910   -8.243890  \n",
       "219                                              479  46.151241   14.995463  \n",
       "\n",
       "[220 rows x 9 columns]"
      ]
     },
     "execution_count": 160,
     "metadata": {},
     "output_type": "execute_result"
    }
   ],
   "source": [
    "data"
   ]
  },
  {
   "cell_type": "markdown",
   "metadata": {},
   "source": [
    "#### k-means"
   ]
  },
  {
   "cell_type": "code",
   "execution_count": 161,
   "metadata": {},
   "outputs": [
    {
     "name": "stdout",
     "output_type": "stream",
     "text": [
      "Optimal Number of Clusters: 2\n",
      "Optimal Silhouette Score: 0.3309686110003133\n"
     ]
    }
   ],
   "source": [
    "from sklearn.preprocessing import StandardScaler\n",
    "\n",
    "relevant_columns = ['Cases - cumulative total', 'Cases - cumulative total per 100000 population',  'Deaths - cumulative total', 'Deaths - cumulative total per 100000 population', 'Latitude', 'Longitude']\n",
    "X = data[relevant_columns]\n",
    "\n",
    "scaler = StandardScaler()\n",
    "\n",
    "X_scaled = scaler.fit_transform(X)\n",
    "\n",
    "silhouette_scores = []\n",
    "num_clusters_list = range(2, 7)\n",
    "\n",
    "for k in num_clusters_list:\n",
    "    kmeans = KMeans(n_clusters=k, random_state=42)\n",
    "    \n",
    "    kmeans.fit(X_scaled)\n",
    "    \n",
    "    labels = kmeans.labels_\n",
    "    \n",
    "    silhouette_avg = silhouette_score(X_scaled, labels)\n",
    "    silhouette_scores.append(silhouette_avg)\n",
    "\n",
    "optimal_num_clusters = num_clusters_list[np.argmax(silhouette_scores)]\n",
    "optimal_silhouette_score = max(silhouette_scores)\n",
    "\n",
    "print(\"Optimal Number of Clusters:\", optimal_num_clusters)\n",
    "print(\"Optimal Silhouette Score:\", optimal_silhouette_score)\n",
    "\n"
   ]
  },
  {
   "cell_type": "code",
   "execution_count": 162,
   "metadata": {},
   "outputs": [
    {
     "data": {
      "image/png": "[encoded data removed]",
      "text/plain": [
       "<Figure size 640x480 with 1 Axes>"
      ]
     },
     "metadata": {},
     "output_type": "display_data"
    }
   ],
   "source": [
    "plt.plot(num_clusters_list, silhouette_scores, marker='o')\n",
    "plt.xlabel('Nombre de Clusters')\n",
    "plt.ylabel('Score Silhouette')\n",
    "plt.title('Nombre de cluster et score silhouette')\n",
    "plt.xticks(num_clusters_list)\n",
    "plt.grid(True)\n",
    "plt.show()"
   ]
  },
  {
   "cell_type": "code",
   "execution_count": 163,
   "metadata": {},
   "outputs": [],
   "source": [
    "kmeans = KMeans(n_clusters=optimal_num_clusters, random_state=42)\n",
    "\n",
    "kmeans.fit(X_scaled)\n",
    "\n",
    "cluster_labels = kmeans.labels_\n",
    "\n",
    "k_means_clusters = pd.DataFrame({'Country': data['Country'], 'Cluster': cluster_labels})"
   ]
  },
  {
   "cell_type": "code",
   "execution_count": 164,
   "metadata": {},
   "outputs": [
    {
     "data": {
      "application/vnd.plotly.v1+json": {
       "config": {
        "plotlyServerURL": "https://plot.ly"
       },
       "data": [
        {
         "coloraxis": "coloraxis",
         "customdata": [
          [
           1
          ],
          [
           0
          ],
          [
           0
          ],
          [
           1
          ],
          [
           0
          ],
          [
           1
          ],
          [
           1
          ],
          [
           1
          ],
          [
           1
          ],
          [
           1
          ],
          [
           0
          ],
          [
           1
          ],
          [
           1
          ],
          [
           0
          ],
          [
           1
          ],
          [
           1
          ],
          [
           1
          ],
          [
           1
          ],
          [
           1
          ],
          [
           1
          ],
          [
           1
          ],
          [
           0
          ],
          [
           0
          ],
          [
           1
          ],
          [
           1
          ],
          [
           0
          ],
          [
           1
          ],
          [
           0
          ],
          [
           0
          ],
          [
           0
          ],
          [
           0
          ],
          [
           1
          ],
          [
           0
          ],
          [
           1
          ],
          [
           1
          ],
          [
           1
          ],
          [
           1
          ],
          [
           1
          ],
          [
           1
          ],
          [
           1
          ],
          [
           1
          ],
          [
           0
          ],
          [
           0
          ],
          [
           0
          ],
          [
           1
          ],
          [
           1
          ],
          [
           1
          ],
          [
           1
          ],
          [
           1
          ],
          [
           1
          ],
          [
           1
          ],
          [
           0
          ],
          [
           1
          ],
          [
           0
          ],
          [
           0
          ],
          [
           1
          ],
          [
           1
          ],
          [
           1
          ],
          [
           1
          ],
          [
           1
          ],
          [
           0
          ],
          [
           0
          ],
          [
           0
          ],
          [
           0
          ],
          [
           0
          ],
          [
           1
          ],
          [
           1
          ],
          [
           1
          ],
          [
           1
          ],
          [
           0
          ],
          [
           0
          ],
          [
           1
          ],
          [
           1
          ],
          [
           1
          ],
          [
           0
          ],
          [
           0
          ],
          [
           1
          ],
          [
           1
          ],
          [
           1
          ],
          [
           0
          ],
          [
           1
          ],
          [
           1
          ],
          [
           0
          ],
          [
           1
          ],
          [
           1
          ],
          [
           1
          ],
          [
           1
          ],
          [
           1
          ],
          [
           1
          ],
          [
           1
          ],
          [
           0
          ],
          [
           0
          ],
          [
           1
          ],
          [
           1
          ],
          [
           1
          ],
          [
           1
          ],
          [
           0
          ],
          [
           1
          ],
          [
           1
          ],
          [
           1
          ],
          [
           0
          ],
          [
           0
          ],
          [
           1
          ],
          [
           1
          ],
          [
           0
          ],
          [
           1
          ],
          [
           1
          ],
          [
           0
          ],
          [
           0
          ],
          [
           1
          ],
          [
           1
          ],
          [
           0
          ],
          [
           1
          ],
          [
           1
          ],
          [
           0
          ],
          [
           1
          ],
          [
           0
          ],
          [
           1
          ],
          [
           1
          ],
          [
           1
          ],
          [
           1
          ],
          [
           1
          ],
          [
           1
          ],
          [
           1
          ],
          [
           1
          ],
          [
           1
          ],
          [
           0
          ],
          [
           1
          ],
          [
           1
          ],
          [
           0
          ],
          [
           1
          ],
          [
           1
          ],
          [
           1
          ],
          [
           0
          ],
          [
           0
          ],
          [
           0
          ],
          [
           0
          ],
          [
           1
          ],
          [
           0
          ],
          [
           1
          ],
          [
           1
          ],
          [
           1
          ],
          [
           1
          ],
          [
           1
          ],
          [
           1
          ],
          [
           1
          ],
          [
           0
          ],
          [
           1
          ],
          [
           1
          ],
          [
           1
          ],
          [
           1
          ],
          [
           1
          ],
          [
           1
          ],
          [
           0
          ],
          [
           1
          ],
          [
           0
          ],
          [
           0
          ],
          [
           0
          ],
          [
           1
          ],
          [
           1
          ],
          [
           1
          ],
          [
           0
          ],
          [
           1
          ],
          [
           0
          ],
          [
           1
          ],
          [
           1
          ],
          [
           1
          ],
          [
           1
          ],
          [
           1
          ],
          [
           1
          ],
          [
           0
          ],
          [
           1
          ],
          [
           1
          ],
          [
           1
          ],
          [
           0
          ],
          [
           1
          ],
          [
           0
          ],
          [
           0
          ],
          [
           1
          ],
          [
           0
          ],
          [
           1
          ],
          [
           1
          ],
          [
           1
          ],
          [
           1
          ],
          [
           1
          ],
          [
           0
          ],
          [
           0
          ],
          [
           1
          ],
          [
           1
          ],
          [
           0
          ],
          [
           0
          ],
          [
           1
          ],
          [
           1
          ],
          [
           1
          ],
          [
           1
          ],
          [
           1
          ],
          [
           0
          ],
          [
           0
          ],
          [
           1
          ],
          [
           1
          ],
          [
           1
          ],
          [
           1
          ],
          [
           0
          ],
          [
           1
          ],
          [
           1
          ],
          [
           1
          ],
          [
           1
          ],
          [
           1
          ],
          [
           0
          ],
          [
           0
          ],
          [
           1
          ],
          [
           0
          ],
          [
           1
          ],
          [
           0
          ],
          [
           1
          ],
          [
           0
          ],
          [
           1
          ],
          [
           0
          ],
          [
           0
          ],
          [
           0
          ]
         ],
         "geo": "geo",
         "hovertemplate": "<b>%{hovertext}</b><br><br>Country=%{location}<br>Cluster=%{z}<extra></extra>",
         "hovertext": [
          "occupied Palestinian territory, including east Jerusalem",
          "Sweden",
          "Kosovo",
          "Iraq",
          "Russian Federation",
          "Australia",
          "Viet Nam",
          "Zimbabwe",
          "Micronesia",
          "Venezuela",
          "Latvia",
          "Saint Vincent and the Grenadines",
          "United States Virgin Islands",
          "San Marino",
          "Northern Mariana Islands",
          "Montserrat",
          "American Samoa",
          "Azerbaijan",
          "Trinidad and Tobago",
          "Belarus",
          "Democratic Republic of the Congo",
          "Faroe Islands",
          "Republic of Korea",
          "Tonga",
          "Marshall Islands",
          "Guam",
          "Egypt",
          "Saint Pierre and Miquelon",
          "Japan",
          "United Kingdom of Great Britain and Northern Ireland",
          "Cyprus",
          "Turks and Caicos Islands",
          "Gibraltar",
          "Bangladesh",
          "French Polynesia",
          "Sierra Leone",
          "Djibouti",
          "Jamaica",
          "British Virgin Islands",
          "Guyana",
          "Curaçao",
          "Peru",
          "Estonia",
          "Austria",
          "Lesotho",
          "Wallis and Futuna",
          "Cayman Islands",
          "Saint Lucia",
          "Sudan",
          "Mauritania",
          "Eritrea",
          "Mongolia",
          "Rwanda",
          "Bulgaria",
          "Hungary",
          "Burkina Faso",
          "United Republic of Tanzania",
          "Mayotte",
          "Chile",
          "Samoa",
          "Finland",
          "Spain",
          "Croatia",
          "Malta",
          "Barbados",
          "Panama",
          "Côte d'Ivoire",
          "Palau",
          "Seychelles",
          "Israel",
          "Denmark",
          "Botswana",
          "Mauritius",
          "Tuvalu",
          "Serbia",
          "Iceland",
          "Kyrgyzstan",
          "Cabo Verde",
          "Nauru",
          "Armenia",
          "Albania",
          "Grenada",
          "Bermuda",
          "Dominica",
          "Guinea-Bissau",
          "Eswatini",
          "Belize",
          "Bahamas",
          "Mozambique",
          "Uzbekistan",
          "Belgium",
          "Romania",
          "Timor-Leste",
          "Cambodia",
          "Cook Islands",
          "Sao Tome and Principe",
          "Luxembourg",
          "Maldives",
          "Argentina",
          "South Africa",
          "Norway",
          "Puerto Rico",
          "Yemen",
          "Nepal",
          "Colombia",
          "Equatorial Guinea",
          "Costa Rica",
          "Brazil",
          "Türkiye",
          "Paraguay",
          "Kiribati",
          "Germany",
          "El Salvador",
          "Kazakhstan",
          "Mexico",
          "Honduras",
          "Montenegro",
          "Uruguay",
          "Suriname",
          "Fiji",
          "Bhutan",
          "Niger",
          "Chad",
          "Namibia",
          "French Guiana",
          "Madagascar",
          "Aruba",
          "Anguilla",
          "Nicaragua",
          "Greenland",
          "Cuba",
          "Zambia",
          "Algeria",
          "Martinique",
          "Liechtenstein",
          "Guadeloupe",
          "Isle of Man",
          "Nigeria",
          "Monaco",
          "Comoros",
          "Kenya",
          "Réunion",
          "Gabon",
          "Haiti",
          "Gambia",
          "Liberia",
          "Guernsey",
          "Benin",
          "Congo",
          "Togo",
          "Mali",
          "Cameroon",
          "Guatemala",
          "Jersey",
          "Dominican Republic",
          "Andorra",
          "Canada",
          "Georgia",
          "Tajikistan",
          "Angola",
          "Ecuador",
          "France",
          "Guinea",
          "Iran",
          "Malawi",
          "Senegal",
          "Lao People's Democratic Republic",
          "Uganda",
          "Ghana",
          "Vanuatu",
          "United States of America",
          "Bolivia",
          "New Zealand",
          "United Arab Emirates",
          "Brunei Darussalam",
          "Syrian Arab Republic",
          "Netherlands",
          "Republic of Moldova",
          "Ethiopia",
          "India",
          "Singapore",
          "Indonesia",
          "Thailand",
          "Saudi Arabia",
          "Lebanon",
          "China",
          "Bosnia and Herzegovina",
          "Afghanistan",
          "Jordan",
          "Tunisia",
          "Greece",
          "Pakistan",
          "Morocco",
          "Bahrain",
          "New Caledonia",
          "Kuwait",
          "Poland",
          "Switzerland",
          "Philippines",
          "Solomon Islands",
          "Sri Lanka",
          "Myanmar",
          "Portugal",
          "Malaysia",
          "Papua New Guinea",
          "Saint Kitts and Nevis",
          "Qatar",
          "Libya",
          "Czechia",
          "Italy",
          "Central African Republic",
          "Lithuania",
          "Antigua and Barbuda",
          "Ukraine",
          "Oman",
          "North Macedonia",
          "Somalia",
          "Slovakia",
          "Ireland",
          "Slovenia"
         ],
         "locationmode": "country names",
         "locations": [
          "occupied Palestinian territory, including east Jerusalem",
          "Sweden",
          "Kosovo",
          "Iraq",
          "Russian Federation",
          "Australia",
          "Viet Nam",
          "Zimbabwe",
          "Micronesia",
          "Venezuela",
          "Latvia",
          "Saint Vincent and the Grenadines",
          "United States Virgin Islands",
          "San Marino",
          "Northern Mariana Islands",
          "Montserrat",
          "American Samoa",
          "Azerbaijan",
          "Trinidad and Tobago",
          "Belarus",
          "Democratic Republic of the Congo",
          "Faroe Islands",
          "Republic of Korea",
          "Tonga",
          "Marshall Islands",
          "Guam",
          "Egypt",
          "Saint Pierre and Miquelon",
          "Japan",
          "United Kingdom of Great Britain and Northern Ireland",
          "Cyprus",
          "Turks and Caicos Islands",
          "Gibraltar",
          "Bangladesh",
          "French Polynesia",
          "Sierra Leone",
          "Djibouti",
          "Jamaica",
          "British Virgin Islands",
          "Guyana",
          "Curaçao",
          "Peru",
          "Estonia",
          "Austria",
          "Lesotho",
          "Wallis and Futuna",
          "Cayman Islands",
          "Saint Lucia",
          "Sudan",
          "Mauritania",
          "Eritrea",
          "Mongolia",
          "Rwanda",
          "Bulgaria",
          "Hungary",
          "Burkina Faso",
          "United Republic of Tanzania",
          "Mayotte",
          "Chile",
          "Samoa",
          "Finland",
          "Spain",
          "Croatia",
          "Malta",
          "Barbados",
          "Panama",
          "Côte d'Ivoire",
          "Palau",
          "Seychelles",
          "Israel",
          "Denmark",
          "Botswana",
          "Mauritius",
          "Tuvalu",
          "Serbia",
          "Iceland",
          "Kyrgyzstan",
          "Cabo Verde",
          "Nauru",
          "Armenia",
          "Albania",
          "Grenada",
          "Bermuda",
          "Dominica",
          "Guinea-Bissau",
          "Eswatini",
          "Belize",
          "Bahamas",
          "Mozambique",
          "Uzbekistan",
          "Belgium",
          "Romania",
          "Timor-Leste",
          "Cambodia",
          "Cook Islands",
          "Sao Tome and Principe",
          "Luxembourg",
          "Maldives",
          "Argentina",
          "South Africa",
          "Norway",
          "Puerto Rico",
          "Yemen",
          "Nepal",
          "Colombia",
          "Equatorial Guinea",
          "Costa Rica",
          "Brazil",
          "Türkiye",
          "Paraguay",
          "Kiribati",
          "Germany",
          "El Salvador",
          "Kazakhstan",
          "Mexico",
          "Honduras",
          "Montenegro",
          "Uruguay",
          "Suriname",
          "Fiji",
          "Bhutan",
          "Niger",
          "Chad",
          "Namibia",
          "French Guiana",
          "Madagascar",
          "Aruba",
          "Anguilla",
          "Nicaragua",
          "Greenland",
          "Cuba",
          "Zambia",
          "Algeria",
          "Martinique",
          "Liechtenstein",
          "Guadeloupe",
          "Isle of Man",
          "Nigeria",
          "Monaco",
          "Comoros",
          "Kenya",
          "Réunion",
          "Gabon",
          "Haiti",
          "Gambia",
          "Liberia",
          "Guernsey",
          "Benin",
          "Congo",
          "Togo",
          "Mali",
          "Cameroon",
          "Guatemala",
          "Jersey",
          "Dominican Republic",
          "Andorra",
          "Canada",
          "Georgia",
          "Tajikistan",
          "Angola",
          "Ecuador",
          "France",
          "Guinea",
          "Iran",
          "Malawi",
          "Senegal",
          "Lao People's Democratic Republic",
          "Uganda",
          "Ghana",
          "Vanuatu",
          "United States of America",
          "Bolivia",
          "New Zealand",
          "United Arab Emirates",
          "Brunei Darussalam",
          "Syrian Arab Republic",
          "Netherlands",
          "Republic of Moldova",
          "Ethiopia",
          "India",
          "Singapore",
          "Indonesia",
          "Thailand",
          "Saudi Arabia",
          "Lebanon",
          "China",
          "Bosnia and Herzegovina",
          "Afghanistan",
          "Jordan",
          "Tunisia",
          "Greece",
          "Pakistan",
          "Morocco",
          "Bahrain",
          "New Caledonia",
          "Kuwait",
          "Poland",
          "Switzerland",
          "Philippines",
          "Solomon Islands",
          "Sri Lanka",
          "Myanmar",
          "Portugal",
          "Malaysia",
          "Papua New Guinea",
          "Saint Kitts and Nevis",
          "Qatar",
          "Libya",
          "Czechia",
          "Italy",
          "Central African Republic",
          "Lithuania",
          "Antigua and Barbuda",
          "Ukraine",
          "Oman",
          "North Macedonia",
          "Somalia",
          "Slovakia",
          "Ireland",
          "Slovenia"
         ],
         "name": "",
         "type": "choropleth",
         "z": [
          1,
          0,
          0,
          1,
          0,
          1,
          1,
          1,
          1,
          1,
          0,
          1,
          1,
          0,
          1,
          1,
          1,
          1,
          1,
          1,
          1,
          0,
          0,
          1,
          1,
          0,
          1,
          0,
          0,
          0,
          0,
          1,
          0,
          1,
          1,
          1,
          1,
          1,
          1,
          1,
          1,
          0,
          0,
          0,
          1,
          1,
          1,
          1,
          1,
          1,
          1,
          0,
          1,
          0,
          0,
          1,
          1,
          1,
          1,
          1,
          0,
          0,
          0,
          0,
          0,
          1,
          1,
          1,
          1,
          0,
          0,
          1,
          1,
          1,
          0,
          0,
          1,
          1,
          1,
          0,
          1,
          1,
          0,
          1,
          1,
          1,
          1,
          1,
          1,
          1,
          0,
          0,
          1,
          1,
          1,
          1,
          0,
          1,
          1,
          1,
          0,
          0,
          1,
          1,
          0,
          1,
          1,
          0,
          0,
          1,
          1,
          0,
          1,
          1,
          0,
          1,
          0,
          1,
          1,
          1,
          1,
          1,
          1,
          1,
          1,
          1,
          0,
          1,
          1,
          0,
          1,
          1,
          1,
          0,
          0,
          0,
          0,
          1,
          0,
          1,
          1,
          1,
          1,
          1,
          1,
          1,
          0,
          1,
          1,
          1,
          1,
          1,
          1,
          0,
          1,
          0,
          0,
          0,
          1,
          1,
          1,
          0,
          1,
          0,
          1,
          1,
          1,
          1,
          1,
          1,
          0,
          1,
          1,
          1,
          0,
          1,
          0,
          0,
          1,
          0,
          1,
          1,
          1,
          1,
          1,
          0,
          0,
          1,
          1,
          0,
          0,
          1,
          1,
          1,
          1,
          1,
          0,
          0,
          1,
          1,
          1,
          1,
          0,
          1,
          1,
          1,
          1,
          1,
          0,
          0,
          1,
          0,
          1,
          0,
          1,
          0,
          1,
          0,
          0,
          0
         ]
        }
       ],
       "layout": {
        "coloraxis": {
         "colorbar": {
          "title": {
           "text": "Clusters"
          }
         },
         "colorscale": [
          [
           0,
           "#0d0887"
          ],
          [
           0.1111111111111111,
           "#46039f"
          ],
          [
           0.2222222222222222,
           "#7201a8"
          ],
          [
           0.3333333333333333,
           "#9c179e"
          ],
          [
           0.4444444444444444,
           "#bd3786"
          ],
          [
           0.5555555555555556,
           "#d8576b"
          ],
          [
           0.6666666666666666,
           "#ed7953"
          ],
          [
           0.7777777777777778,
           "#fb9f3a"
          ],
          [
           0.8888888888888888,
           "#fdca26"
          ],
          [
           1,
           "#f0f921"
          ]
         ]
        },
        "geo": {
         "center": {},
         "domain": {
          "x": [
           0,
           1
          ],
          "y": [
           0,
           1
          ]
         }
        },
        "legend": {
         "tracegroupgap": 0
        },
        "template": {
         "data": {
          "bar": [
           {
            "error_x": {
             "color": "#2a3f5f"
            },
            "error_y": {
             "color": "#2a3f5f"
            },
            "marker": {
             "line": {
              "color": "#E5ECF6",
              "width": 0.5
             },
             "pattern": {
              "fillmode": "overlay",
              "size": 10,
              "solidity": 0.2
             }
            },
            "type": "bar"
           }
          ],
          "barpolar": [
           {
            "marker": {
             "line": {
              "color": "#E5ECF6",
              "width": 0.5
             },
             "pattern": {
              "fillmode": "overlay",
              "size": 10,
              "solidity": 0.2
             }
            },
            "type": "barpolar"
           }
          ],
          "carpet": [
           {
            "aaxis": {
             "endlinecolor": "#2a3f5f",
             "gridcolor": "white",
             "linecolor": "white",
             "minorgridcolor": "white",
             "startlinecolor": "#2a3f5f"
            },
            "baxis": {
             "endlinecolor": "#2a3f5f",
             "gridcolor": "white",
             "linecolor": "white",
             "minorgridcolor": "white",
             "startlinecolor": "#2a3f5f"
            },
            "type": "carpet"
           }
          ],
          "choropleth": [
           {
            "colorbar": {
             "outlinewidth": 0,
             "ticks": ""
            },
            "type": "choropleth"
           }
          ],
          "contour": [
           {
            "colorbar": {
             "outlinewidth": 0,
             "ticks": ""
            },
            "colorscale": [
             [
              0,
              "#0d0887"
             ],
             [
              0.1111111111111111,
              "#46039f"
             ],
             [
              0.2222222222222222,
              "#7201a8"
             ],
             [
              0.3333333333333333,
              "#9c179e"
             ],
             [
              0.4444444444444444,
              "#bd3786"
             ],
             [
              0.5555555555555556,
              "#d8576b"
             ],
             [
              0.6666666666666666,
              "#ed7953"
             ],
             [
              0.7777777777777778,
              "#fb9f3a"
             ],
             [
              0.8888888888888888,
              "#fdca26"
             ],
             [
              1,
              "#f0f921"
             ]
            ],
            "type": "contour"
           }
          ],
          "contourcarpet": [
           {
            "colorbar": {
             "outlinewidth": 0,
             "ticks": ""
            },
            "type": "contourcarpet"
           }
          ],
          "heatmap": [
           {
            "colorbar": {
             "outlinewidth": 0,
             "ticks": ""
            },
            "colorscale": [
             [
              0,
              "#0d0887"
             ],
             [
              0.1111111111111111,
              "#46039f"
             ],
             [
              0.2222222222222222,
              "#7201a8"
             ],
             [
              0.3333333333333333,
              "#9c179e"
             ],
             [
              0.4444444444444444,
              "#bd3786"
             ],
             [
              0.5555555555555556,
              "#d8576b"
             ],
             [
              0.6666666666666666,
              "#ed7953"
             ],
             [
              0.7777777777777778,
              "#fb9f3a"
             ],
             [
              0.8888888888888888,
              "#fdca26"
             ],
             [
              1,
              "#f0f921"
             ]
            ],
            "type": "heatmap"
           }
          ],
          "heatmapgl": [
           {
            "colorbar": {
             "outlinewidth": 0,
             "ticks": ""
            },
            "colorscale": [
             [
              0,
              "#0d0887"
             ],
             [
              0.1111111111111111,
              "#46039f"
             ],
             [
              0.2222222222222222,
              "#7201a8"
             ],
             [
              0.3333333333333333,
              "#9c179e"
             ],
             [
              0.4444444444444444,
              "#bd3786"
             ],
             [
              0.5555555555555556,
              "#d8576b"
             ],
             [
              0.6666666666666666,
              "#ed7953"
             ],
             [
              0.7777777777777778,
              "#fb9f3a"
             ],
             [
              0.8888888888888888,
              "#fdca26"
             ],
             [
              1,
              "#f0f921"
             ]
            ],
            "type": "heatmapgl"
           }
          ],
          "histogram": [
           {
            "marker": {
             "pattern": {
              "fillmode": "overlay",
              "size": 10,
              "solidity": 0.2
             }
            },
            "type": "histogram"
           }
          ],
          "histogram2d": [
           {
            "colorbar": {
             "outlinewidth": 0,
             "ticks": ""
            },
            "colorscale": [
             [
              0,
              "#0d0887"
             ],
             [
              0.1111111111111111,
              "#46039f"
             ],
             [
              0.2222222222222222,
              "#7201a8"
             ],
             [
              0.3333333333333333,
              "#9c179e"
             ],
             [
              0.4444444444444444,
              "#bd3786"
             ],
             [
              0.5555555555555556,
              "#d8576b"
             ],
             [
              0.6666666666666666,
              "#ed7953"
             ],
             [
              0.7777777777777778,
              "#fb9f3a"
             ],
             [
              0.8888888888888888,
              "#fdca26"
             ],
             [
              1,
              "#f0f921"
             ]
            ],
            "type": "histogram2d"
           }
          ],
          "histogram2dcontour": [
           {
            "colorbar": {
             "outlinewidth": 0,
             "ticks": ""
            },
            "colorscale": [
             [
              0,
              "#0d0887"
             ],
             [
              0.1111111111111111,
              "#46039f"
             ],
             [
              0.2222222222222222,
              "#7201a8"
             ],
             [
              0.3333333333333333,
              "#9c179e"
             ],
             [
              0.4444444444444444,
              "#bd3786"
             ],
             [
              0.5555555555555556,
              "#d8576b"
             ],
             [
              0.6666666666666666,
              "#ed7953"
             ],
             [
              0.7777777777777778,
              "#fb9f3a"
             ],
             [
              0.8888888888888888,
              "#fdca26"
             ],
             [
              1,
              "#f0f921"
             ]
            ],
            "type": "histogram2dcontour"
           }
          ],
          "mesh3d": [
           {
            "colorbar": {
             "outlinewidth": 0,
             "ticks": ""
            },
            "type": "mesh3d"
           }
          ],
          "parcoords": [
           {
            "line": {
             "colorbar": {
              "outlinewidth": 0,
              "ticks": ""
             }
            },
            "type": "parcoords"
           }
          ],
          "pie": [
           {
            "automargin": true,
            "type": "pie"
           }
          ],
          "scatter": [
           {
            "fillpattern": {
             "fillmode": "overlay",
             "size": 10,
             "solidity": 0.2
            },
            "type": "scatter"
           }
          ],
          "scatter3d": [
           {
            "line": {
             "colorbar": {
              "outlinewidth": 0,
              "ticks": ""
             }
            },
            "marker": {
             "colorbar": {
              "outlinewidth": 0,
              "ticks": ""
             }
            },
            "type": "scatter3d"
           }
          ],
          "scattercarpet": [
           {
            "marker": {
             "colorbar": {
              "outlinewidth": 0,
              "ticks": ""
             }
            },
            "type": "scattercarpet"
           }
          ],
          "scattergeo": [
           {
            "marker": {
             "colorbar": {
              "outlinewidth": 0,
              "ticks": ""
             }
            },
            "type": "scattergeo"
           }
          ],
          "scattergl": [
           {
            "marker": {
             "colorbar": {
              "outlinewidth": 0,
              "ticks": ""
             }
            },
            "type": "scattergl"
           }
          ],
          "scattermapbox": [
           {
            "marker": {
             "colorbar": {
              "outlinewidth": 0,
              "ticks": ""
             }
            },
            "type": "scattermapbox"
           }
          ],
          "scatterpolar": [
           {
            "marker": {
             "colorbar": {
              "outlinewidth": 0,
              "ticks": ""
             }
            },
            "type": "scatterpolar"
           }
          ],
          "scatterpolargl": [
           {
            "marker": {
             "colorbar": {
              "outlinewidth": 0,
              "ticks": ""
             }
            },
            "type": "scatterpolargl"
           }
          ],
          "scatterternary": [
           {
            "marker": {
             "colorbar": {
              "outlinewidth": 0,
              "ticks": ""
             }
            },
            "type": "scatterternary"
           }
          ],
          "surface": [
           {
            "colorbar": {
             "outlinewidth": 0,
             "ticks": ""
            },
            "colorscale": [
             [
              0,
              "#0d0887"
             ],
             [
              0.1111111111111111,
              "#46039f"
             ],
             [
              0.2222222222222222,
              "#7201a8"
             ],
             [
              0.3333333333333333,
              "#9c179e"
             ],
             [
              0.4444444444444444,
              "#bd3786"
             ],
             [
              0.5555555555555556,
              "#d8576b"
             ],
             [
              0.6666666666666666,
              "#ed7953"
             ],
             [
              0.7777777777777778,
              "#fb9f3a"
             ],
             [
              0.8888888888888888,
              "#fdca26"
             ],
             [
              1,
              "#f0f921"
             ]
            ],
            "type": "surface"
           }
          ],
          "table": [
           {
            "cells": {
             "fill": {
              "color": "#EBF0F8"
             },
             "line": {
              "color": "white"
             }
            },
            "header": {
             "fill": {
              "color": "#C8D4E3"
             },
             "line": {
              "color": "white"
             }
            },
            "type": "table"
           }
          ]
         },
         "layout": {
          "annotationdefaults": {
           "arrowcolor": "#2a3f5f",
           "arrowhead": 0,
           "arrowwidth": 1
          },
          "autotypenumbers": "strict",
          "coloraxis": {
           "colorbar": {
            "outlinewidth": 0,
            "ticks": ""
           }
          },
          "colorscale": {
           "diverging": [
            [
             0,
             "#8e0152"
            ],
            [
             0.1,
             "#c51b7d"
            ],
            [
             0.2,
             "#de77ae"
            ],
            [
             0.3,
             "#f1b6da"
            ],
            [
             0.4,
             "#fde0ef"
            ],
            [
             0.5,
             "#f7f7f7"
            ],
            [
             0.6,
             "#e6f5d0"
            ],
            [
             0.7,
             "#b8e186"
            ],
            [
             0.8,
             "#7fbc41"
            ],
            [
             0.9,
             "#4d9221"
            ],
            [
             1,
             "#276419"
            ]
           ],
           "sequential": [
            [
             0,
             "#0d0887"
            ],
            [
             0.1111111111111111,
             "#46039f"
            ],
            [
             0.2222222222222222,
             "#7201a8"
            ],
            [
             0.3333333333333333,
             "#9c179e"
            ],
            [
             0.4444444444444444,
             "#bd3786"
            ],
            [
             0.5555555555555556,
             "#d8576b"
            ],
            [
             0.6666666666666666,
             "#ed7953"
            ],
            [
             0.7777777777777778,
             "#fb9f3a"
            ],
            [
             0.8888888888888888,
             "#fdca26"
            ],
            [
             1,
             "#f0f921"
            ]
           ],
           "sequentialminus": [
            [
             0,
             "#0d0887"
            ],
            [
             0.1111111111111111,
             "#46039f"
            ],
            [
             0.2222222222222222,
             "#7201a8"
            ],
            [
             0.3333333333333333,
             "#9c179e"
            ],
            [
             0.4444444444444444,
             "#bd3786"
            ],
            [
             0.5555555555555556,
             "#d8576b"
            ],
            [
             0.6666666666666666,
             "#ed7953"
            ],
            [
             0.7777777777777778,
             "#fb9f3a"
            ],
            [
             0.8888888888888888,
             "#fdca26"
            ],
            [
             1,
             "#f0f921"
            ]
           ]
          },
          "colorway": [
           "#636efa",
           "#EF553B",
           "#00cc96",
           "#ab63fa",
           "#FFA15A",
           "#19d3f3",
           "#FF6692",
           "#B6E880",
           "#FF97FF",
           "#FECB52"
          ],
          "font": {
           "color": "#2a3f5f"
          },
          "geo": {
           "bgcolor": "white",
           "lakecolor": "white",
           "landcolor": "#E5ECF6",
           "showlakes": true,
           "showland": true,
           "subunitcolor": "white"
          },
          "hoverlabel": {
           "align": "left"
          },
          "hovermode": "closest",
          "mapbox": {
           "style": "light"
          },
          "paper_bgcolor": "white",
          "plot_bgcolor": "#E5ECF6",
          "polar": {
           "angularaxis": {
            "gridcolor": "white",
            "linecolor": "white",
            "ticks": ""
           },
           "bgcolor": "#E5ECF6",
           "radialaxis": {
            "gridcolor": "white",
            "linecolor": "white",
            "ticks": ""
           }
          },
          "scene": {
           "xaxis": {
            "backgroundcolor": "#E5ECF6",
            "gridcolor": "white",
            "gridwidth": 2,
            "linecolor": "white",
            "showbackground": true,
            "ticks": "",
            "zerolinecolor": "white"
           },
           "yaxis": {
            "backgroundcolor": "#E5ECF6",
            "gridcolor": "white",
            "gridwidth": 2,
            "linecolor": "white",
            "showbackground": true,
            "ticks": "",
            "zerolinecolor": "white"
           },
           "zaxis": {
            "backgroundcolor": "#E5ECF6",
            "gridcolor": "white",
            "gridwidth": 2,
            "linecolor": "white",
            "showbackground": true,
            "ticks": "",
            "zerolinecolor": "white"
           }
          },
          "shapedefaults": {
           "line": {
            "color": "#2a3f5f"
           }
          },
          "ternary": {
           "aaxis": {
            "gridcolor": "white",
            "linecolor": "white",
            "ticks": ""
           },
           "baxis": {
            "gridcolor": "white",
            "linecolor": "white",
            "ticks": ""
           },
           "bgcolor": "#E5ECF6",
           "caxis": {
            "gridcolor": "white",
            "linecolor": "white",
            "ticks": ""
           }
          },
          "title": {
           "x": 0.05
          },
          "xaxis": {
           "automargin": true,
           "gridcolor": "white",
           "linecolor": "white",
           "ticks": "",
           "title": {
            "standoff": 15
           },
           "zerolinecolor": "white",
           "zerolinewidth": 2
          },
          "yaxis": {
           "automargin": true,
           "gridcolor": "white",
           "linecolor": "white",
           "ticks": "",
           "title": {
            "standoff": 15
           },
           "zerolinecolor": "white",
           "zerolinewidth": 2
          }
         }
        },
        "title": {
         "text": "Clustering avec k-means"
        }
       }
      }
     },
     "metadata": {},
     "output_type": "display_data"
    }
   ],
   "source": [
    "fig1 = px.choropleth(k_means_clusters, \n",
    "                     locations='Country', \n",
    "                     locationmode='country names',\n",
    "                     color='Cluster',\n",
    "                     hover_name='Country',\n",
    "                     hover_data=['Cluster'],\n",
    "                     title='Clustering avec k-means',\n",
    "                     color_discrete_sequence=px.colors.qualitative.Pastel) \n",
    "fig1.update_coloraxes(colorbar_title=\"Clusters\")\n",
    "fig1.show()\n"
   ]
  },
  {
   "cell_type": "markdown",
   "metadata": {},
   "source": [
    "#### K-menoids"
   ]
  },
  {
   "cell_type": "code",
   "execution_count": 165,
   "metadata": {},
   "outputs": [
    {
     "data": {
      "image/png": "[encoded data removed]",
      "text/plain": [
       "<Figure size 500x400 with 1 Axes>"
      ]
     },
     "metadata": {},
     "output_type": "display_data"
    },
    {
     "name": "stdout",
     "output_type": "stream",
     "text": [
      "Best number of clusters found: 3\n"
     ]
    }
   ],
   "source": [
    "import pandas as pd\n",
    "import numpy as np\n",
    "import matplotlib.pyplot as plt\n",
    "from sklearn.preprocessing import StandardScaler\n",
    "from sklearn_extra.cluster import KMedoids\n",
    "from sklearn.metrics import silhouette_score\n",
    "import plotly.express as px\n",
    "\n",
    "\n",
    "scaler = StandardScaler()\n",
    "X_scaled = scaler.fit_transform(X)\n",
    "\n",
    "best_score = -1\n",
    "best_k = -1\n",
    "best_clusters = None\n",
    "silhouette_scores = []\n",
    "\n",
    "for k in range(2, 9):\n",
    "    kmedoids = KMedoids(n_clusters=k, random_state=0)\n",
    "    clusters = kmedoids.fit_predict(X_scaled)\n",
    "    silhouette_avg = silhouette_score(X_scaled, clusters)\n",
    "    silhouette_scores.append(silhouette_avg)\n",
    "    \n",
    "    if silhouette_avg > best_score:\n",
    "        best_score = silhouette_avg\n",
    "        best_k = k\n",
    "        best_clusters = clusters\n",
    "\n",
    "plt.figure(figsize=(5, 4))\n",
    "plt.plot(range(2, 9), silhouette_scores, marker='o', linestyle='-')\n",
    "plt.title('Nombre de cluster de score Silhouette')\n",
    "plt.xlabel('Nombre de Cluster (k)')\n",
    "plt.ylabel('Score Silhouette')\n",
    "plt.xticks(range(2, 9))\n",
    "plt.grid(True)\n",
    "plt.show()\n",
    "\n",
    "print(f\"Best number of clusters found: {best_k}\")\n",
    "\n",
    "\n"
   ]
  },
  {
   "cell_type": "code",
   "execution_count": 166,
   "metadata": {},
   "outputs": [
    {
     "data": {
      "application/vnd.plotly.v1+json": {
       "config": {
        "plotlyServerURL": "https://plot.ly"
       },
       "data": [
        {
         "coloraxis": "coloraxis",
         "customdata": [
          [
           0
          ],
          [
           2
          ],
          [
           2
          ],
          [
           0
          ],
          [
           2
          ],
          [
           0
          ],
          [
           0
          ],
          [
           0
          ],
          [
           0
          ],
          [
           0
          ],
          [
           2
          ],
          [
           1
          ],
          [
           1
          ],
          [
           2
          ],
          [
           0
          ],
          [
           1
          ],
          [
           1
          ],
          [
           0
          ],
          [
           1
          ],
          [
           0
          ],
          [
           0
          ],
          [
           2
          ],
          [
           2
          ],
          [
           1
          ],
          [
           0
          ],
          [
           2
          ],
          [
           0
          ],
          [
           2
          ],
          [
           2
          ],
          [
           2
          ],
          [
           2
          ],
          [
           1
          ],
          [
           2
          ],
          [
           0
          ],
          [
           1
          ],
          [
           0
          ],
          [
           0
          ],
          [
           1
          ],
          [
           1
          ],
          [
           1
          ],
          [
           1
          ],
          [
           1
          ],
          [
           2
          ],
          [
           2
          ],
          [
           0
          ],
          [
           1
          ],
          [
           1
          ],
          [
           1
          ],
          [
           0
          ],
          [
           0
          ],
          [
           0
          ],
          [
           2
          ],
          [
           0
          ],
          [
           2
          ],
          [
           2
          ],
          [
           0
          ],
          [
           0
          ],
          [
           0
          ],
          [
           1
          ],
          [
           1
          ],
          [
           2
          ],
          [
           2
          ],
          [
           2
          ],
          [
           2
          ],
          [
           1
          ],
          [
           1
          ],
          [
           0
          ],
          [
           0
          ],
          [
           2
          ],
          [
           2
          ],
          [
           2
          ],
          [
           0
          ],
          [
           0
          ],
          [
           0
          ],
          [
           2
          ],
          [
           2
          ],
          [
           0
          ],
          [
           0
          ],
          [
           0
          ],
          [
           2
          ],
          [
           0
          ],
          [
           1
          ],
          [
           1
          ],
          [
           1
          ],
          [
           0
          ],
          [
           0
          ],
          [
           1
          ],
          [
           1
          ],
          [
           0
          ],
          [
           0
          ],
          [
           2
          ],
          [
           2
          ],
          [
           0
          ],
          [
           0
          ],
          [
           1
          ],
          [
           0
          ],
          [
           2
          ],
          [
           0
          ],
          [
           1
          ],
          [
           0
          ],
          [
           2
          ],
          [
           1
          ],
          [
           0
          ],
          [
           0
          ],
          [
           1
          ],
          [
           0
          ],
          [
           1
          ],
          [
           1
          ],
          [
           2
          ],
          [
           1
          ],
          [
           1
          ],
          [
           2
          ],
          [
           1
          ],
          [
           0
          ],
          [
           1
          ],
          [
           1
          ],
          [
           2
          ],
          [
           1
          ],
          [
           1
          ],
          [
           0
          ],
          [
           0
          ],
          [
           0
          ],
          [
           0
          ],
          [
           0
          ],
          [
           1
          ],
          [
           0
          ],
          [
           1
          ],
          [
           1
          ],
          [
           0
          ],
          [
           2
          ],
          [
           1
          ],
          [
           0
          ],
          [
           0
          ],
          [
           1
          ],
          [
           2
          ],
          [
           1
          ],
          [
           2
          ],
          [
           0
          ],
          [
           2
          ],
          [
           0
          ],
          [
           0
          ],
          [
           1
          ],
          [
           0
          ],
          [
           0
          ],
          [
           0
          ],
          [
           0
          ],
          [
           2
          ],
          [
           0
          ],
          [
           0
          ],
          [
           0
          ],
          [
           0
          ],
          [
           0
          ],
          [
           1
          ],
          [
           2
          ],
          [
           1
          ],
          [
           2
          ],
          [
           1
          ],
          [
           2
          ],
          [
           0
          ],
          [
           0
          ],
          [
           1
          ],
          [
           2
          ],
          [
           0
          ],
          [
           2
          ],
          [
           0
          ],
          [
           0
          ],
          [
           0
          ],
          [
           0
          ],
          [
           0
          ],
          [
           0
          ],
          [
           2
          ],
          [
           1
          ],
          [
           0
          ],
          [
           0
          ],
          [
           2
          ],
          [
           0
          ],
          [
           2
          ],
          [
           2
          ],
          [
           0
          ],
          [
           0
          ],
          [
           0
          ],
          [
           0
          ],
          [
           0
          ],
          [
           0
          ],
          [
           2
          ],
          [
           0
          ],
          [
           2
          ],
          [
           0
          ],
          [
           0
          ],
          [
           2
          ],
          [
           2
          ],
          [
           0
          ],
          [
           0
          ],
          [
           2
          ],
          [
           0
          ],
          [
           0
          ],
          [
           2
          ],
          [
           2
          ],
          [
           0
          ],
          [
           0
          ],
          [
           0
          ],
          [
           0
          ],
          [
           2
          ],
          [
           0
          ],
          [
           0
          ],
          [
           1
          ],
          [
           0
          ],
          [
           0
          ],
          [
           2
          ],
          [
           2
          ],
          [
           0
          ],
          [
           2
          ],
          [
           1
          ],
          [
           2
          ],
          [
           0
          ],
          [
           2
          ],
          [
           0
          ],
          [
           2
          ],
          [
           2
          ],
          [
           2
          ]
         ],
         "geo": "geo",
         "hovertemplate": "<b>%{hovertext}</b><br><br>Country=%{location}<br>Cluster=%{z}<extra></extra>",
         "hovertext": [
          "occupied Palestinian territory, including east Jerusalem",
          "Sweden",
          "Kosovo",
          "Iraq",
          "Russian Federation",
          "Australia",
          "Viet Nam",
          "Zimbabwe",
          "Micronesia",
          "Venezuela",
          "Latvia",
          "Saint Vincent and the Grenadines",
          "United States Virgin Islands",
          "San Marino",
          "Northern Mariana Islands",
          "Montserrat",
          "American Samoa",
          "Azerbaijan",
          "Trinidad and Tobago",
          "Belarus",
          "Democratic Republic of the Congo",
          "Faroe Islands",
          "Republic of Korea",
          "Tonga",
          "Marshall Islands",
          "Guam",
          "Egypt",
          "Saint Pierre and Miquelon",
          "Japan",
          "United Kingdom of Great Britain and Northern Ireland",
          "Cyprus",
          "Turks and Caicos Islands",
          "Gibraltar",
          "Bangladesh",
          "French Polynesia",
          "Sierra Leone",
          "Djibouti",
          "Jamaica",
          "British Virgin Islands",
          "Guyana",
          "Curaçao",
          "Peru",
          "Estonia",
          "Austria",
          "Lesotho",
          "Wallis and Futuna",
          "Cayman Islands",
          "Saint Lucia",
          "Sudan",
          "Mauritania",
          "Eritrea",
          "Mongolia",
          "Rwanda",
          "Bulgaria",
          "Hungary",
          "Burkina Faso",
          "United Republic of Tanzania",
          "Mayotte",
          "Chile",
          "Samoa",
          "Finland",
          "Spain",
          "Croatia",
          "Malta",
          "Barbados",
          "Panama",
          "Côte d'Ivoire",
          "Palau",
          "Seychelles",
          "Israel",
          "Denmark",
          "Botswana",
          "Mauritius",
          "Tuvalu",
          "Serbia",
          "Iceland",
          "Kyrgyzstan",
          "Cabo Verde",
          "Nauru",
          "Armenia",
          "Albania",
          "Grenada",
          "Bermuda",
          "Dominica",
          "Guinea-Bissau",
          "Eswatini",
          "Belize",
          "Bahamas",
          "Mozambique",
          "Uzbekistan",
          "Belgium",
          "Romania",
          "Timor-Leste",
          "Cambodia",
          "Cook Islands",
          "Sao Tome and Principe",
          "Luxembourg",
          "Maldives",
          "Argentina",
          "South Africa",
          "Norway",
          "Puerto Rico",
          "Yemen",
          "Nepal",
          "Colombia",
          "Equatorial Guinea",
          "Costa Rica",
          "Brazil",
          "Türkiye",
          "Paraguay",
          "Kiribati",
          "Germany",
          "El Salvador",
          "Kazakhstan",
          "Mexico",
          "Honduras",
          "Montenegro",
          "Uruguay",
          "Suriname",
          "Fiji",
          "Bhutan",
          "Niger",
          "Chad",
          "Namibia",
          "French Guiana",
          "Madagascar",
          "Aruba",
          "Anguilla",
          "Nicaragua",
          "Greenland",
          "Cuba",
          "Zambia",
          "Algeria",
          "Martinique",
          "Liechtenstein",
          "Guadeloupe",
          "Isle of Man",
          "Nigeria",
          "Monaco",
          "Comoros",
          "Kenya",
          "Réunion",
          "Gabon",
          "Haiti",
          "Gambia",
          "Liberia",
          "Guernsey",
          "Benin",
          "Congo",
          "Togo",
          "Mali",
          "Cameroon",
          "Guatemala",
          "Jersey",
          "Dominican Republic",
          "Andorra",
          "Canada",
          "Georgia",
          "Tajikistan",
          "Angola",
          "Ecuador",
          "France",
          "Guinea",
          "Iran",
          "Malawi",
          "Senegal",
          "Lao People's Democratic Republic",
          "Uganda",
          "Ghana",
          "Vanuatu",
          "United States of America",
          "Bolivia",
          "New Zealand",
          "United Arab Emirates",
          "Brunei Darussalam",
          "Syrian Arab Republic",
          "Netherlands",
          "Republic of Moldova",
          "Ethiopia",
          "India",
          "Singapore",
          "Indonesia",
          "Thailand",
          "Saudi Arabia",
          "Lebanon",
          "China",
          "Bosnia and Herzegovina",
          "Afghanistan",
          "Jordan",
          "Tunisia",
          "Greece",
          "Pakistan",
          "Morocco",
          "Bahrain",
          "New Caledonia",
          "Kuwait",
          "Poland",
          "Switzerland",
          "Philippines",
          "Solomon Islands",
          "Sri Lanka",
          "Myanmar",
          "Portugal",
          "Malaysia",
          "Papua New Guinea",
          "Saint Kitts and Nevis",
          "Qatar",
          "Libya",
          "Czechia",
          "Italy",
          "Central African Republic",
          "Lithuania",
          "Antigua and Barbuda",
          "Ukraine",
          "Oman",
          "North Macedonia",
          "Somalia",
          "Slovakia",
          "Ireland",
          "Slovenia"
         ],
         "locationmode": "country names",
         "locations": [
          "occupied Palestinian territory, including east Jerusalem",
          "Sweden",
          "Kosovo",
          "Iraq",
          "Russian Federation",
          "Australia",
          "Viet Nam",
          "Zimbabwe",
          "Micronesia",
          "Venezuela",
          "Latvia",
          "Saint Vincent and the Grenadines",
          "United States Virgin Islands",
          "San Marino",
          "Northern Mariana Islands",
          "Montserrat",
          "American Samoa",
          "Azerbaijan",
          "Trinidad and Tobago",
          "Belarus",
          "Democratic Republic of the Congo",
          "Faroe Islands",
          "Republic of Korea",
          "Tonga",
          "Marshall Islands",
          "Guam",
          "Egypt",
          "Saint Pierre and Miquelon",
          "Japan",
          "United Kingdom of Great Britain and Northern Ireland",
          "Cyprus",
          "Turks and Caicos Islands",
          "Gibraltar",
          "Bangladesh",
          "French Polynesia",
          "Sierra Leone",
          "Djibouti",
          "Jamaica",
          "British Virgin Islands",
          "Guyana",
          "Curaçao",
          "Peru",
          "Estonia",
          "Austria",
          "Lesotho",
          "Wallis and Futuna",
          "Cayman Islands",
          "Saint Lucia",
          "Sudan",
          "Mauritania",
          "Eritrea",
          "Mongolia",
          "Rwanda",
          "Bulgaria",
          "Hungary",
          "Burkina Faso",
          "United Republic of Tanzania",
          "Mayotte",
          "Chile",
          "Samoa",
          "Finland",
          "Spain",
          "Croatia",
          "Malta",
          "Barbados",
          "Panama",
          "Côte d'Ivoire",
          "Palau",
          "Seychelles",
          "Israel",
          "Denmark",
          "Botswana",
          "Mauritius",
          "Tuvalu",
          "Serbia",
          "Iceland",
          "Kyrgyzstan",
          "Cabo Verde",
          "Nauru",
          "Armenia",
          "Albania",
          "Grenada",
          "Bermuda",
          "Dominica",
          "Guinea-Bissau",
          "Eswatini",
          "Belize",
          "Bahamas",
          "Mozambique",
          "Uzbekistan",
          "Belgium",
          "Romania",
          "Timor-Leste",
          "Cambodia",
          "Cook Islands",
          "Sao Tome and Principe",
          "Luxembourg",
          "Maldives",
          "Argentina",
          "South Africa",
          "Norway",
          "Puerto Rico",
          "Yemen",
          "Nepal",
          "Colombia",
          "Equatorial Guinea",
          "Costa Rica",
          "Brazil",
          "Türkiye",
          "Paraguay",
          "Kiribati",
          "Germany",
          "El Salvador",
          "Kazakhstan",
          "Mexico",
          "Honduras",
          "Montenegro",
          "Uruguay",
          "Suriname",
          "Fiji",
          "Bhutan",
          "Niger",
          "Chad",
          "Namibia",
          "French Guiana",
          "Madagascar",
          "Aruba",
          "Anguilla",
          "Nicaragua",
          "Greenland",
          "Cuba",
          "Zambia",
          "Algeria",
          "Martinique",
          "Liechtenstein",
          "Guadeloupe",
          "Isle of Man",
          "Nigeria",
          "Monaco",
          "Comoros",
          "Kenya",
          "Réunion",
          "Gabon",
          "Haiti",
          "Gambia",
          "Liberia",
          "Guernsey",
          "Benin",
          "Congo",
          "Togo",
          "Mali",
          "Cameroon",
          "Guatemala",
          "Jersey",
          "Dominican Republic",
          "Andorra",
          "Canada",
          "Georgia",
          "Tajikistan",
          "Angola",
          "Ecuador",
          "France",
          "Guinea",
          "Iran",
          "Malawi",
          "Senegal",
          "Lao People's Democratic Republic",
          "Uganda",
          "Ghana",
          "Vanuatu",
          "United States of America",
          "Bolivia",
          "New Zealand",
          "United Arab Emirates",
          "Brunei Darussalam",
          "Syrian Arab Republic",
          "Netherlands",
          "Republic of Moldova",
          "Ethiopia",
          "India",
          "Singapore",
          "Indonesia",
          "Thailand",
          "Saudi Arabia",
          "Lebanon",
          "China",
          "Bosnia and Herzegovina",
          "Afghanistan",
          "Jordan",
          "Tunisia",
          "Greece",
          "Pakistan",
          "Morocco",
          "Bahrain",
          "New Caledonia",
          "Kuwait",
          "Poland",
          "Switzerland",
          "Philippines",
          "Solomon Islands",
          "Sri Lanka",
          "Myanmar",
          "Portugal",
          "Malaysia",
          "Papua New Guinea",
          "Saint Kitts and Nevis",
          "Qatar",
          "Libya",
          "Czechia",
          "Italy",
          "Central African Republic",
          "Lithuania",
          "Antigua and Barbuda",
          "Ukraine",
          "Oman",
          "North Macedonia",
          "Somalia",
          "Slovakia",
          "Ireland",
          "Slovenia"
         ],
         "name": "",
         "type": "choropleth",
         "z": [
          0,
          2,
          2,
          0,
          2,
          0,
          0,
          0,
          0,
          0,
          2,
          1,
          1,
          2,
          0,
          1,
          1,
          0,
          1,
          0,
          0,
          2,
          2,
          1,
          0,
          2,
          0,
          2,
          2,
          2,
          2,
          1,
          2,
          0,
          1,
          0,
          0,
          1,
          1,
          1,
          1,
          1,
          2,
          2,
          0,
          1,
          1,
          1,
          0,
          0,
          0,
          2,
          0,
          2,
          2,
          0,
          0,
          0,
          1,
          1,
          2,
          2,
          2,
          2,
          1,
          1,
          0,
          0,
          2,
          2,
          2,
          0,
          0,
          0,
          2,
          2,
          0,
          0,
          0,
          2,
          0,
          1,
          1,
          1,
          0,
          0,
          1,
          1,
          0,
          0,
          2,
          2,
          0,
          0,
          1,
          0,
          2,
          0,
          1,
          0,
          2,
          1,
          0,
          0,
          1,
          0,
          1,
          1,
          2,
          1,
          1,
          2,
          1,
          0,
          1,
          1,
          2,
          1,
          1,
          0,
          0,
          0,
          0,
          0,
          1,
          0,
          1,
          1,
          0,
          2,
          1,
          0,
          0,
          1,
          2,
          1,
          2,
          0,
          2,
          0,
          0,
          1,
          0,
          0,
          0,
          0,
          2,
          0,
          0,
          0,
          0,
          0,
          1,
          2,
          1,
          2,
          1,
          2,
          0,
          0,
          1,
          2,
          0,
          2,
          0,
          0,
          0,
          0,
          0,
          0,
          2,
          1,
          0,
          0,
          2,
          0,
          2,
          2,
          0,
          0,
          0,
          0,
          0,
          0,
          2,
          0,
          2,
          0,
          0,
          2,
          2,
          0,
          0,
          2,
          0,
          0,
          2,
          2,
          0,
          0,
          0,
          0,
          2,
          0,
          0,
          1,
          0,
          0,
          2,
          2,
          0,
          2,
          1,
          2,
          0,
          2,
          0,
          2,
          2,
          2
         ]
        }
       ],
       "layout": {
        "coloraxis": {
         "colorbar": {
          "title": {
           "text": "Clusters"
          }
         },
         "colorscale": [
          [
           0,
           "#0d0887"
          ],
          [
           0.1111111111111111,
           "#46039f"
          ],
          [
           0.2222222222222222,
           "#7201a8"
          ],
          [
           0.3333333333333333,
           "#9c179e"
          ],
          [
           0.4444444444444444,
           "#bd3786"
          ],
          [
           0.5555555555555556,
           "#d8576b"
          ],
          [
           0.6666666666666666,
           "#ed7953"
          ],
          [
           0.7777777777777778,
           "#fb9f3a"
          ],
          [
           0.8888888888888888,
           "#fdca26"
          ],
          [
           1,
           "#f0f921"
          ]
         ]
        },
        "geo": {
         "center": {},
         "domain": {
          "x": [
           0,
           1
          ],
          "y": [
           0,
           1
          ]
         }
        },
        "legend": {
         "tracegroupgap": 0
        },
        "template": {
         "data": {
          "bar": [
           {
            "error_x": {
             "color": "#2a3f5f"
            },
            "error_y": {
             "color": "#2a3f5f"
            },
            "marker": {
             "line": {
              "color": "#E5ECF6",
              "width": 0.5
             },
             "pattern": {
              "fillmode": "overlay",
              "size": 10,
              "solidity": 0.2
             }
            },
            "type": "bar"
           }
          ],
          "barpolar": [
           {
            "marker": {
             "line": {
              "color": "#E5ECF6",
              "width": 0.5
             },
             "pattern": {
              "fillmode": "overlay",
              "size": 10,
              "solidity": 0.2
             }
            },
            "type": "barpolar"
           }
          ],
          "carpet": [
           {
            "aaxis": {
             "endlinecolor": "#2a3f5f",
             "gridcolor": "white",
             "linecolor": "white",
             "minorgridcolor": "white",
             "startlinecolor": "#2a3f5f"
            },
            "baxis": {
             "endlinecolor": "#2a3f5f",
             "gridcolor": "white",
             "linecolor": "white",
             "minorgridcolor": "white",
             "startlinecolor": "#2a3f5f"
            },
            "type": "carpet"
           }
          ],
          "choropleth": [
           {
            "colorbar": {
             "outlinewidth": 0,
             "ticks": ""
            },
            "type": "choropleth"
           }
          ],
          "contour": [
           {
            "colorbar": {
             "outlinewidth": 0,
             "ticks": ""
            },
            "colorscale": [
             [
              0,
              "#0d0887"
             ],
             [
              0.1111111111111111,
              "#46039f"
             ],
             [
              0.2222222222222222,
              "#7201a8"
             ],
             [
              0.3333333333333333,
              "#9c179e"
             ],
             [
              0.4444444444444444,
              "#bd3786"
             ],
             [
              0.5555555555555556,
              "#d8576b"
             ],
             [
              0.6666666666666666,
              "#ed7953"
             ],
             [
              0.7777777777777778,
              "#fb9f3a"
             ],
             [
              0.8888888888888888,
              "#fdca26"
             ],
             [
              1,
              "#f0f921"
             ]
            ],
            "type": "contour"
           }
          ],
          "contourcarpet": [
           {
            "colorbar": {
             "outlinewidth": 0,
             "ticks": ""
            },
            "type": "contourcarpet"
           }
          ],
          "heatmap": [
           {
            "colorbar": {
             "outlinewidth": 0,
             "ticks": ""
            },
            "colorscale": [
             [
              0,
              "#0d0887"
             ],
             [
              0.1111111111111111,
              "#46039f"
             ],
             [
              0.2222222222222222,
              "#7201a8"
             ],
             [
              0.3333333333333333,
              "#9c179e"
             ],
             [
              0.4444444444444444,
              "#bd3786"
             ],
             [
              0.5555555555555556,
              "#d8576b"
             ],
             [
              0.6666666666666666,
              "#ed7953"
             ],
             [
              0.7777777777777778,
              "#fb9f3a"
             ],
             [
              0.8888888888888888,
              "#fdca26"
             ],
             [
              1,
              "#f0f921"
             ]
            ],
            "type": "heatmap"
           }
          ],
          "heatmapgl": [
           {
            "colorbar": {
             "outlinewidth": 0,
             "ticks": ""
            },
            "colorscale": [
             [
              0,
              "#0d0887"
             ],
             [
              0.1111111111111111,
              "#46039f"
             ],
             [
              0.2222222222222222,
              "#7201a8"
             ],
             [
              0.3333333333333333,
              "#9c179e"
             ],
             [
              0.4444444444444444,
              "#bd3786"
             ],
             [
              0.5555555555555556,
              "#d8576b"
             ],
             [
              0.6666666666666666,
              "#ed7953"
             ],
             [
              0.7777777777777778,
              "#fb9f3a"
             ],
             [
              0.8888888888888888,
              "#fdca26"
             ],
             [
              1,
              "#f0f921"
             ]
            ],
            "type": "heatmapgl"
           }
          ],
          "histogram": [
           {
            "marker": {
             "pattern": {
              "fillmode": "overlay",
              "size": 10,
              "solidity": 0.2
             }
            },
            "type": "histogram"
           }
          ],
          "histogram2d": [
           {
            "colorbar": {
             "outlinewidth": 0,
             "ticks": ""
            },
            "colorscale": [
             [
              0,
              "#0d0887"
             ],
             [
              0.1111111111111111,
              "#46039f"
             ],
             [
              0.2222222222222222,
              "#7201a8"
             ],
             [
              0.3333333333333333,
              "#9c179e"
             ],
             [
              0.4444444444444444,
              "#bd3786"
             ],
             [
              0.5555555555555556,
              "#d8576b"
             ],
             [
              0.6666666666666666,
              "#ed7953"
             ],
             [
              0.7777777777777778,
              "#fb9f3a"
             ],
             [
              0.8888888888888888,
              "#fdca26"
             ],
             [
              1,
              "#f0f921"
             ]
            ],
            "type": "histogram2d"
           }
          ],
          "histogram2dcontour": [
           {
            "colorbar": {
             "outlinewidth": 0,
             "ticks": ""
            },
            "colorscale": [
             [
              0,
              "#0d0887"
             ],
             [
              0.1111111111111111,
              "#46039f"
             ],
             [
              0.2222222222222222,
              "#7201a8"
             ],
             [
              0.3333333333333333,
              "#9c179e"
             ],
             [
              0.4444444444444444,
              "#bd3786"
             ],
             [
              0.5555555555555556,
              "#d8576b"
             ],
             [
              0.6666666666666666,
              "#ed7953"
             ],
             [
              0.7777777777777778,
              "#fb9f3a"
             ],
             [
              0.8888888888888888,
              "#fdca26"
             ],
             [
              1,
              "#f0f921"
             ]
            ],
            "type": "histogram2dcontour"
           }
          ],
          "mesh3d": [
           {
            "colorbar": {
             "outlinewidth": 0,
             "ticks": ""
            },
            "type": "mesh3d"
           }
          ],
          "parcoords": [
           {
            "line": {
             "colorbar": {
              "outlinewidth": 0,
              "ticks": ""
             }
            },
            "type": "parcoords"
           }
          ],
          "pie": [
           {
            "automargin": true,
            "type": "pie"
           }
          ],
          "scatter": [
           {
            "fillpattern": {
             "fillmode": "overlay",
             "size": 10,
             "solidity": 0.2
            },
            "type": "scatter"
           }
          ],
          "scatter3d": [
           {
            "line": {
             "colorbar": {
              "outlinewidth": 0,
              "ticks": ""
             }
            },
            "marker": {
             "colorbar": {
              "outlinewidth": 0,
              "ticks": ""
             }
            },
            "type": "scatter3d"
           }
          ],
          "scattercarpet": [
           {
            "marker": {
             "colorbar": {
              "outlinewidth": 0,
              "ticks": ""
             }
            },
            "type": "scattercarpet"
           }
          ],
          "scattergeo": [
           {
            "marker": {
             "colorbar": {
              "outlinewidth": 0,
              "ticks": ""
             }
            },
            "type": "scattergeo"
           }
          ],
          "scattergl": [
           {
            "marker": {
             "colorbar": {
              "outlinewidth": 0,
              "ticks": ""
             }
            },
            "type": "scattergl"
           }
          ],
          "scattermapbox": [
           {
            "marker": {
             "colorbar": {
              "outlinewidth": 0,
              "ticks": ""
             }
            },
            "type": "scattermapbox"
           }
          ],
          "scatterpolar": [
           {
            "marker": {
             "colorbar": {
              "outlinewidth": 0,
              "ticks": ""
             }
            },
            "type": "scatterpolar"
           }
          ],
          "scatterpolargl": [
           {
            "marker": {
             "colorbar": {
              "outlinewidth": 0,
              "ticks": ""
             }
            },
            "type": "scatterpolargl"
           }
          ],
          "scatterternary": [
           {
            "marker": {
             "colorbar": {
              "outlinewidth": 0,
              "ticks": ""
             }
            },
            "type": "scatterternary"
           }
          ],
          "surface": [
           {
            "colorbar": {
             "outlinewidth": 0,
             "ticks": ""
            },
            "colorscale": [
             [
              0,
              "#0d0887"
             ],
             [
              0.1111111111111111,
              "#46039f"
             ],
             [
              0.2222222222222222,
              "#7201a8"
             ],
             [
              0.3333333333333333,
              "#9c179e"
             ],
             [
              0.4444444444444444,
              "#bd3786"
             ],
             [
              0.5555555555555556,
              "#d8576b"
             ],
             [
              0.6666666666666666,
              "#ed7953"
             ],
             [
              0.7777777777777778,
              "#fb9f3a"
             ],
             [
              0.8888888888888888,
              "#fdca26"
             ],
             [
              1,
              "#f0f921"
             ]
            ],
            "type": "surface"
           }
          ],
          "table": [
           {
            "cells": {
             "fill": {
              "color": "#EBF0F8"
             },
             "line": {
              "color": "white"
             }
            },
            "header": {
             "fill": {
              "color": "#C8D4E3"
             },
             "line": {
              "color": "white"
             }
            },
            "type": "table"
           }
          ]
         },
         "layout": {
          "annotationdefaults": {
           "arrowcolor": "#2a3f5f",
           "arrowhead": 0,
           "arrowwidth": 1
          },
          "autotypenumbers": "strict",
          "coloraxis": {
           "colorbar": {
            "outlinewidth": 0,
            "ticks": ""
           }
          },
          "colorscale": {
           "diverging": [
            [
             0,
             "#8e0152"
            ],
            [
             0.1,
             "#c51b7d"
            ],
            [
             0.2,
             "#de77ae"
            ],
            [
             0.3,
             "#f1b6da"
            ],
            [
             0.4,
             "#fde0ef"
            ],
            [
             0.5,
             "#f7f7f7"
            ],
            [
             0.6,
             "#e6f5d0"
            ],
            [
             0.7,
             "#b8e186"
            ],
            [
             0.8,
             "#7fbc41"
            ],
            [
             0.9,
             "#4d9221"
            ],
            [
             1,
             "#276419"
            ]
           ],
           "sequential": [
            [
             0,
             "#0d0887"
            ],
            [
             0.1111111111111111,
             "#46039f"
            ],
            [
             0.2222222222222222,
             "#7201a8"
            ],
            [
             0.3333333333333333,
             "#9c179e"
            ],
            [
             0.4444444444444444,
             "#bd3786"
            ],
            [
             0.5555555555555556,
             "#d8576b"
            ],
            [
             0.6666666666666666,
             "#ed7953"
            ],
            [
             0.7777777777777778,
             "#fb9f3a"
            ],
            [
             0.8888888888888888,
             "#fdca26"
            ],
            [
             1,
             "#f0f921"
            ]
           ],
           "sequentialminus": [
            [
             0,
             "#0d0887"
            ],
            [
             0.1111111111111111,
             "#46039f"
            ],
            [
             0.2222222222222222,
             "#7201a8"
            ],
            [
             0.3333333333333333,
             "#9c179e"
            ],
            [
             0.4444444444444444,
             "#bd3786"
            ],
            [
             0.5555555555555556,
             "#d8576b"
            ],
            [
             0.6666666666666666,
             "#ed7953"
            ],
            [
             0.7777777777777778,
             "#fb9f3a"
            ],
            [
             0.8888888888888888,
             "#fdca26"
            ],
            [
             1,
             "#f0f921"
            ]
           ]
          },
          "colorway": [
           "#636efa",
           "#EF553B",
           "#00cc96",
           "#ab63fa",
           "#FFA15A",
           "#19d3f3",
           "#FF6692",
           "#B6E880",
           "#FF97FF",
           "#FECB52"
          ],
          "font": {
           "color": "#2a3f5f"
          },
          "geo": {
           "bgcolor": "white",
           "lakecolor": "white",
           "landcolor": "#E5ECF6",
           "showlakes": true,
           "showland": true,
           "subunitcolor": "white"
          },
          "hoverlabel": {
           "align": "left"
          },
          "hovermode": "closest",
          "mapbox": {
           "style": "light"
          },
          "paper_bgcolor": "white",
          "plot_bgcolor": "#E5ECF6",
          "polar": {
           "angularaxis": {
            "gridcolor": "white",
            "linecolor": "white",
            "ticks": ""
           },
           "bgcolor": "#E5ECF6",
           "radialaxis": {
            "gridcolor": "white",
            "linecolor": "white",
            "ticks": ""
           }
          },
          "scene": {
           "xaxis": {
            "backgroundcolor": "#E5ECF6",
            "gridcolor": "white",
            "gridwidth": 2,
            "linecolor": "white",
            "showbackground": true,
            "ticks": "",
            "zerolinecolor": "white"
           },
           "yaxis": {
            "backgroundcolor": "#E5ECF6",
            "gridcolor": "white",
            "gridwidth": 2,
            "linecolor": "white",
            "showbackground": true,
            "ticks": "",
            "zerolinecolor": "white"
           },
           "zaxis": {
            "backgroundcolor": "#E5ECF6",
            "gridcolor": "white",
            "gridwidth": 2,
            "linecolor": "white",
            "showbackground": true,
            "ticks": "",
            "zerolinecolor": "white"
           }
          },
          "shapedefaults": {
           "line": {
            "color": "#2a3f5f"
           }
          },
          "ternary": {
           "aaxis": {
            "gridcolor": "white",
            "linecolor": "white",
            "ticks": ""
           },
           "baxis": {
            "gridcolor": "white",
            "linecolor": "white",
            "ticks": ""
           },
           "bgcolor": "#E5ECF6",
           "caxis": {
            "gridcolor": "white",
            "linecolor": "white",
            "ticks": ""
           }
          },
          "title": {
           "x": 0.05
          },
          "xaxis": {
           "automargin": true,
           "gridcolor": "white",
           "linecolor": "white",
           "ticks": "",
           "title": {
            "standoff": 15
           },
           "zerolinecolor": "white",
           "zerolinewidth": 2
          },
          "yaxis": {
           "automargin": true,
           "gridcolor": "white",
           "linecolor": "white",
           "ticks": "",
           "title": {
            "standoff": 15
           },
           "zerolinecolor": "white",
           "zerolinewidth": 2
          }
         }
        },
        "title": {
         "text": "KMedoids Clustering"
        }
       }
      }
     },
     "metadata": {},
     "output_type": "display_data"
    }
   ],
   "source": [
    "\n",
    "df_medoids = data.copy()\n",
    "df_medoids['Cluster'] = best_clusters\n",
    "\n",
    "\n",
    "fig = px.choropleth(df_medoids, \n",
    "                    locations='Country', \n",
    "                    locationmode='country names',\n",
    "                    color='Cluster',\n",
    "                    hover_name='Country',\n",
    "                    hover_data=['Cluster'],\n",
    "                    title='KMedoids Clustering', \n",
    "                    color_discrete_sequence=px.colors.qualitative.Pastel)\n",
    "fig.update_coloraxes(colorbar_title=\"Clusters\")\n",
    "fig.show()"
   ]
  },
  {
   "cell_type": "markdown",
   "metadata": {},
   "source": [
    "#### Agglomerative hierarchical clustering"
   ]
  },
  {
   "cell_type": "code",
   "execution_count": 167,
   "metadata": {},
   "outputs": [
    {
     "data": {
      "image/png": "[encoded data removed]",
      "text/plain": [
       "<Figure size 500x400 with 1 Axes>"
      ]
     },
     "metadata": {},
     "output_type": "display_data"
    },
    {
     "name": "stdout",
     "output_type": "stream",
     "text": [
      "Best number of clusters found: 5\n"
     ]
    },
    {
     "data": {
      "application/vnd.plotly.v1+json": {
       "config": {
        "plotlyServerURL": "https://plot.ly"
       },
       "data": [
        {
         "coloraxis": "coloraxis",
         "customdata": [
          [
           2
          ],
          [
           2
          ],
          [
           2
          ],
          [
           0
          ],
          [
           1
          ],
          [
           0
          ],
          [
           0
          ],
          [
           0
          ],
          [
           0
          ],
          [
           3
          ],
          [
           2
          ],
          [
           3
          ],
          [
           3
          ],
          [
           2
          ],
          [
           0
          ],
          [
           3
          ],
          [
           3
          ],
          [
           2
          ],
          [
           3
          ],
          [
           2
          ],
          [
           0
          ],
          [
           2
          ],
          [
           1
          ],
          [
           3
          ],
          [
           0
          ],
          [
           0
          ],
          [
           0
          ],
          [
           2
          ],
          [
           1
          ],
          [
           1
          ],
          [
           2
          ],
          [
           3
          ],
          [
           2
          ],
          [
           0
          ],
          [
           3
          ],
          [
           0
          ],
          [
           0
          ],
          [
           3
          ],
          [
           3
          ],
          [
           3
          ],
          [
           3
          ],
          [
           3
          ],
          [
           2
          ],
          [
           2
          ],
          [
           0
          ],
          [
           3
          ],
          [
           3
          ],
          [
           3
          ],
          [
           0
          ],
          [
           0
          ],
          [
           0
          ],
          [
           2
          ],
          [
           0
          ],
          [
           2
          ],
          [
           2
          ],
          [
           0
          ],
          [
           0
          ],
          [
           0
          ],
          [
           3
          ],
          [
           3
          ],
          [
           2
          ],
          [
           2
          ],
          [
           2
          ],
          [
           2
          ],
          [
           3
          ],
          [
           3
          ],
          [
           0
          ],
          [
           0
          ],
          [
           0
          ],
          [
           2
          ],
          [
           2
          ],
          [
           0
          ],
          [
           0
          ],
          [
           0
          ],
          [
           2
          ],
          [
           2
          ],
          [
           0
          ],
          [
           3
          ],
          [
           0
          ],
          [
           2
          ],
          [
           2
          ],
          [
           3
          ],
          [
           3
          ],
          [
           3
          ],
          [
           0
          ],
          [
           0
          ],
          [
           3
          ],
          [
           3
          ],
          [
           0
          ],
          [
           0
          ],
          [
           2
          ],
          [
           2
          ],
          [
           0
          ],
          [
           0
          ],
          [
           3
          ],
          [
           0
          ],
          [
           2
          ],
          [
           0
          ],
          [
           3
          ],
          [
           0
          ],
          [
           2
          ],
          [
           3
          ],
          [
           0
          ],
          [
           0
          ],
          [
           3
          ],
          [
           0
          ],
          [
           3
          ],
          [
           1
          ],
          [
           2
          ],
          [
           3
          ],
          [
           3
          ],
          [
           1
          ],
          [
           3
          ],
          [
           2
          ],
          [
           3
          ],
          [
           3
          ],
          [
           2
          ],
          [
           3
          ],
          [
           3
          ],
          [
           0
          ],
          [
           0
          ],
          [
           0
          ],
          [
           0
          ],
          [
           0
          ],
          [
           3
          ],
          [
           0
          ],
          [
           3
          ],
          [
           3
          ],
          [
           3
          ],
          [
           2
          ],
          [
           3
          ],
          [
           0
          ],
          [
           0
          ],
          [
           3
          ],
          [
           2
          ],
          [
           3
          ],
          [
           2
          ],
          [
           0
          ],
          [
           2
          ],
          [
           0
          ],
          [
           0
          ],
          [
           0
          ],
          [
           0
          ],
          [
           3
          ],
          [
           0
          ],
          [
           0
          ],
          [
           2
          ],
          [
           0
          ],
          [
           0
          ],
          [
           0
          ],
          [
           0
          ],
          [
           0
          ],
          [
           3
          ],
          [
           2
          ],
          [
           3
          ],
          [
           2
          ],
          [
           2
          ],
          [
           2
          ],
          [
           0
          ],
          [
           0
          ],
          [
           3
          ],
          [
           1
          ],
          [
           0
          ],
          [
           2
          ],
          [
           0
          ],
          [
           0
          ],
          [
           0
          ],
          [
           0
          ],
          [
           0
          ],
          [
           0
          ],
          [
           4
          ],
          [
           3
          ],
          [
           0
          ],
          [
           0
          ],
          [
           0
          ],
          [
           0
          ],
          [
           2
          ],
          [
           2
          ],
          [
           0
          ],
          [
           1
          ],
          [
           0
          ],
          [
           0
          ],
          [
           0
          ],
          [
           0
          ],
          [
           2
          ],
          [
           1
          ],
          [
           2
          ],
          [
           0
          ],
          [
           2
          ],
          [
           2
          ],
          [
           2
          ],
          [
           0
          ],
          [
           0
          ],
          [
           2
          ],
          [
           0
          ],
          [
           0
          ],
          [
           2
          ],
          [
           2
          ],
          [
           0
          ],
          [
           0
          ],
          [
           0
          ],
          [
           0
          ],
          [
           2
          ],
          [
           0
          ],
          [
           0
          ],
          [
           3
          ],
          [
           0
          ],
          [
           0
          ],
          [
           2
          ],
          [
           1
          ],
          [
           0
          ],
          [
           2
          ],
          [
           3
          ],
          [
           2
          ],
          [
           0
          ],
          [
           2
          ],
          [
           0
          ],
          [
           2
          ],
          [
           2
          ],
          [
           2
          ]
         ],
         "geo": "geo",
         "hovertemplate": "<b>%{hovertext}</b><br><br>Country=%{location}<br>Cluster=%{z}<extra></extra>",
         "hovertext": [
          "occupied Palestinian territory, including east Jerusalem",
          "Sweden",
          "Kosovo",
          "Iraq",
          "Russian Federation",
          "Australia",
          "Viet Nam",
          "Zimbabwe",
          "Micronesia",
          "Venezuela",
          "Latvia",
          "Saint Vincent and the Grenadines",
          "United States Virgin Islands",
          "San Marino",
          "Northern Mariana Islands",
          "Montserrat",
          "American Samoa",
          "Azerbaijan",
          "Trinidad and Tobago",
          "Belarus",
          "Democratic Republic of the Congo",
          "Faroe Islands",
          "Republic of Korea",
          "Tonga",
          "Marshall Islands",
          "Guam",
          "Egypt",
          "Saint Pierre and Miquelon",
          "Japan",
          "United Kingdom of Great Britain and Northern Ireland",
          "Cyprus",
          "Turks and Caicos Islands",
          "Gibraltar",
          "Bangladesh",
          "French Polynesia",
          "Sierra Leone",
          "Djibouti",
          "Jamaica",
          "British Virgin Islands",
          "Guyana",
          "Curaçao",
          "Peru",
          "Estonia",
          "Austria",
          "Lesotho",
          "Wallis and Futuna",
          "Cayman Islands",
          "Saint Lucia",
          "Sudan",
          "Mauritania",
          "Eritrea",
          "Mongolia",
          "Rwanda",
          "Bulgaria",
          "Hungary",
          "Burkina Faso",
          "United Republic of Tanzania",
          "Mayotte",
          "Chile",
          "Samoa",
          "Finland",
          "Spain",
          "Croatia",
          "Malta",
          "Barbados",
          "Panama",
          "Côte d'Ivoire",
          "Palau",
          "Seychelles",
          "Israel",
          "Denmark",
          "Botswana",
          "Mauritius",
          "Tuvalu",
          "Serbia",
          "Iceland",
          "Kyrgyzstan",
          "Cabo Verde",
          "Nauru",
          "Armenia",
          "Albania",
          "Grenada",
          "Bermuda",
          "Dominica",
          "Guinea-Bissau",
          "Eswatini",
          "Belize",
          "Bahamas",
          "Mozambique",
          "Uzbekistan",
          "Belgium",
          "Romania",
          "Timor-Leste",
          "Cambodia",
          "Cook Islands",
          "Sao Tome and Principe",
          "Luxembourg",
          "Maldives",
          "Argentina",
          "South Africa",
          "Norway",
          "Puerto Rico",
          "Yemen",
          "Nepal",
          "Colombia",
          "Equatorial Guinea",
          "Costa Rica",
          "Brazil",
          "Türkiye",
          "Paraguay",
          "Kiribati",
          "Germany",
          "El Salvador",
          "Kazakhstan",
          "Mexico",
          "Honduras",
          "Montenegro",
          "Uruguay",
          "Suriname",
          "Fiji",
          "Bhutan",
          "Niger",
          "Chad",
          "Namibia",
          "French Guiana",
          "Madagascar",
          "Aruba",
          "Anguilla",
          "Nicaragua",
          "Greenland",
          "Cuba",
          "Zambia",
          "Algeria",
          "Martinique",
          "Liechtenstein",
          "Guadeloupe",
          "Isle of Man",
          "Nigeria",
          "Monaco",
          "Comoros",
          "Kenya",
          "Réunion",
          "Gabon",
          "Haiti",
          "Gambia",
          "Liberia",
          "Guernsey",
          "Benin",
          "Congo",
          "Togo",
          "Mali",
          "Cameroon",
          "Guatemala",
          "Jersey",
          "Dominican Republic",
          "Andorra",
          "Canada",
          "Georgia",
          "Tajikistan",
          "Angola",
          "Ecuador",
          "France",
          "Guinea",
          "Iran",
          "Malawi",
          "Senegal",
          "Lao People's Democratic Republic",
          "Uganda",
          "Ghana",
          "Vanuatu",
          "United States of America",
          "Bolivia",
          "New Zealand",
          "United Arab Emirates",
          "Brunei Darussalam",
          "Syrian Arab Republic",
          "Netherlands",
          "Republic of Moldova",
          "Ethiopia",
          "India",
          "Singapore",
          "Indonesia",
          "Thailand",
          "Saudi Arabia",
          "Lebanon",
          "China",
          "Bosnia and Herzegovina",
          "Afghanistan",
          "Jordan",
          "Tunisia",
          "Greece",
          "Pakistan",
          "Morocco",
          "Bahrain",
          "New Caledonia",
          "Kuwait",
          "Poland",
          "Switzerland",
          "Philippines",
          "Solomon Islands",
          "Sri Lanka",
          "Myanmar",
          "Portugal",
          "Malaysia",
          "Papua New Guinea",
          "Saint Kitts and Nevis",
          "Qatar",
          "Libya",
          "Czechia",
          "Italy",
          "Central African Republic",
          "Lithuania",
          "Antigua and Barbuda",
          "Ukraine",
          "Oman",
          "North Macedonia",
          "Somalia",
          "Slovakia",
          "Ireland",
          "Slovenia"
         ],
         "locationmode": "country names",
         "locations": [
          "occupied Palestinian territory, including east Jerusalem",
          "Sweden",
          "Kosovo",
          "Iraq",
          "Russian Federation",
          "Australia",
          "Viet Nam",
          "Zimbabwe",
          "Micronesia",
          "Venezuela",
          "Latvia",
          "Saint Vincent and the Grenadines",
          "United States Virgin Islands",
          "San Marino",
          "Northern Mariana Islands",
          "Montserrat",
          "American Samoa",
          "Azerbaijan",
          "Trinidad and Tobago",
          "Belarus",
          "Democratic Republic of the Congo",
          "Faroe Islands",
          "Republic of Korea",
          "Tonga",
          "Marshall Islands",
          "Guam",
          "Egypt",
          "Saint Pierre and Miquelon",
          "Japan",
          "United Kingdom of Great Britain and Northern Ireland",
          "Cyprus",
          "Turks and Caicos Islands",
          "Gibraltar",
          "Bangladesh",
          "French Polynesia",
          "Sierra Leone",
          "Djibouti",
          "Jamaica",
          "British Virgin Islands",
          "Guyana",
          "Curaçao",
          "Peru",
          "Estonia",
          "Austria",
          "Lesotho",
          "Wallis and Futuna",
          "Cayman Islands",
          "Saint Lucia",
          "Sudan",
          "Mauritania",
          "Eritrea",
          "Mongolia",
          "Rwanda",
          "Bulgaria",
          "Hungary",
          "Burkina Faso",
          "United Republic of Tanzania",
          "Mayotte",
          "Chile",
          "Samoa",
          "Finland",
          "Spain",
          "Croatia",
          "Malta",
          "Barbados",
          "Panama",
          "Côte d'Ivoire",
          "Palau",
          "Seychelles",
          "Israel",
          "Denmark",
          "Botswana",
          "Mauritius",
          "Tuvalu",
          "Serbia",
          "Iceland",
          "Kyrgyzstan",
          "Cabo Verde",
          "Nauru",
          "Armenia",
          "Albania",
          "Grenada",
          "Bermuda",
          "Dominica",
          "Guinea-Bissau",
          "Eswatini",
          "Belize",
          "Bahamas",
          "Mozambique",
          "Uzbekistan",
          "Belgium",
          "Romania",
          "Timor-Leste",
          "Cambodia",
          "Cook Islands",
          "Sao Tome and Principe",
          "Luxembourg",
          "Maldives",
          "Argentina",
          "South Africa",
          "Norway",
          "Puerto Rico",
          "Yemen",
          "Nepal",
          "Colombia",
          "Equatorial Guinea",
          "Costa Rica",
          "Brazil",
          "Türkiye",
          "Paraguay",
          "Kiribati",
          "Germany",
          "El Salvador",
          "Kazakhstan",
          "Mexico",
          "Honduras",
          "Montenegro",
          "Uruguay",
          "Suriname",
          "Fiji",
          "Bhutan",
          "Niger",
          "Chad",
          "Namibia",
          "French Guiana",
          "Madagascar",
          "Aruba",
          "Anguilla",
          "Nicaragua",
          "Greenland",
          "Cuba",
          "Zambia",
          "Algeria",
          "Martinique",
          "Liechtenstein",
          "Guadeloupe",
          "Isle of Man",
          "Nigeria",
          "Monaco",
          "Comoros",
          "Kenya",
          "Réunion",
          "Gabon",
          "Haiti",
          "Gambia",
          "Liberia",
          "Guernsey",
          "Benin",
          "Congo",
          "Togo",
          "Mali",
          "Cameroon",
          "Guatemala",
          "Jersey",
          "Dominican Republic",
          "Andorra",
          "Canada",
          "Georgia",
          "Tajikistan",
          "Angola",
          "Ecuador",
          "France",
          "Guinea",
          "Iran",
          "Malawi",
          "Senegal",
          "Lao People's Democratic Republic",
          "Uganda",
          "Ghana",
          "Vanuatu",
          "United States of America",
          "Bolivia",
          "New Zealand",
          "United Arab Emirates",
          "Brunei Darussalam",
          "Syrian Arab Republic",
          "Netherlands",
          "Republic of Moldova",
          "Ethiopia",
          "India",
          "Singapore",
          "Indonesia",
          "Thailand",
          "Saudi Arabia",
          "Lebanon",
          "China",
          "Bosnia and Herzegovina",
          "Afghanistan",
          "Jordan",
          "Tunisia",
          "Greece",
          "Pakistan",
          "Morocco",
          "Bahrain",
          "New Caledonia",
          "Kuwait",
          "Poland",
          "Switzerland",
          "Philippines",
          "Solomon Islands",
          "Sri Lanka",
          "Myanmar",
          "Portugal",
          "Malaysia",
          "Papua New Guinea",
          "Saint Kitts and Nevis",
          "Qatar",
          "Libya",
          "Czechia",
          "Italy",
          "Central African Republic",
          "Lithuania",
          "Antigua and Barbuda",
          "Ukraine",
          "Oman",
          "North Macedonia",
          "Somalia",
          "Slovakia",
          "Ireland",
          "Slovenia"
         ],
         "name": "",
         "type": "choropleth",
         "z": [
          2,
          2,
          2,
          0,
          1,
          0,
          0,
          0,
          0,
          3,
          2,
          3,
          3,
          2,
          0,
          3,
          3,
          2,
          3,
          2,
          0,
          2,
          1,
          3,
          0,
          0,
          0,
          2,
          1,
          1,
          2,
          3,
          2,
          0,
          3,
          0,
          0,
          3,
          3,
          3,
          3,
          3,
          2,
          2,
          0,
          3,
          3,
          3,
          0,
          0,
          0,
          2,
          0,
          2,
          2,
          0,
          0,
          0,
          3,
          3,
          2,
          2,
          2,
          2,
          3,
          3,
          0,
          0,
          0,
          2,
          2,
          0,
          0,
          0,
          2,
          2,
          0,
          3,
          0,
          2,
          2,
          3,
          3,
          3,
          0,
          0,
          3,
          3,
          0,
          0,
          2,
          2,
          0,
          0,
          3,
          0,
          2,
          0,
          3,
          0,
          2,
          3,
          0,
          0,
          3,
          0,
          3,
          1,
          2,
          3,
          3,
          1,
          3,
          2,
          3,
          3,
          2,
          3,
          3,
          0,
          0,
          0,
          0,
          0,
          3,
          0,
          3,
          3,
          3,
          2,
          3,
          0,
          0,
          3,
          2,
          3,
          2,
          0,
          2,
          0,
          0,
          0,
          0,
          3,
          0,
          0,
          2,
          0,
          0,
          0,
          0,
          0,
          3,
          2,
          3,
          2,
          2,
          2,
          0,
          0,
          3,
          1,
          0,
          2,
          0,
          0,
          0,
          0,
          0,
          0,
          4,
          3,
          0,
          0,
          0,
          0,
          2,
          2,
          0,
          1,
          0,
          0,
          0,
          0,
          2,
          1,
          2,
          0,
          2,
          2,
          2,
          0,
          0,
          2,
          0,
          0,
          2,
          2,
          0,
          0,
          0,
          0,
          2,
          0,
          0,
          3,
          0,
          0,
          2,
          1,
          0,
          2,
          3,
          2,
          0,
          2,
          0,
          2,
          2,
          2
         ]
        }
       ],
       "layout": {
        "coloraxis": {
         "colorbar": {
          "title": {
           "text": "Clusters"
          }
         },
         "colorscale": [
          [
           0,
           "#440154"
          ],
          [
           0.1111111111111111,
           "#482878"
          ],
          [
           0.2222222222222222,
           "#3e4989"
          ],
          [
           0.3333333333333333,
           "#31688e"
          ],
          [
           0.4444444444444444,
           "#26828e"
          ],
          [
           0.5555555555555556,
           "#1f9e89"
          ],
          [
           0.6666666666666666,
           "#35b779"
          ],
          [
           0.7777777777777778,
           "#6ece58"
          ],
          [
           0.8888888888888888,
           "#b5de2b"
          ],
          [
           1,
           "#fde725"
          ]
         ]
        },
        "geo": {
         "center": {},
         "domain": {
          "x": [
           0,
           1
          ],
          "y": [
           0,
           1
          ]
         }
        },
        "legend": {
         "tracegroupgap": 0
        },
        "template": {
         "data": {
          "bar": [
           {
            "error_x": {
             "color": "#2a3f5f"
            },
            "error_y": {
             "color": "#2a3f5f"
            },
            "marker": {
             "line": {
              "color": "#E5ECF6",
              "width": 0.5
             },
             "pattern": {
              "fillmode": "overlay",
              "size": 10,
              "solidity": 0.2
             }
            },
            "type": "bar"
           }
          ],
          "barpolar": [
           {
            "marker": {
             "line": {
              "color": "#E5ECF6",
              "width": 0.5
             },
             "pattern": {
              "fillmode": "overlay",
              "size": 10,
              "solidity": 0.2
             }
            },
            "type": "barpolar"
           }
          ],
          "carpet": [
           {
            "aaxis": {
             "endlinecolor": "#2a3f5f",
             "gridcolor": "white",
             "linecolor": "white",
             "minorgridcolor": "white",
             "startlinecolor": "#2a3f5f"
            },
            "baxis": {
             "endlinecolor": "#2a3f5f",
             "gridcolor": "white",
             "linecolor": "white",
             "minorgridcolor": "white",
             "startlinecolor": "#2a3f5f"
            },
            "type": "carpet"
           }
          ],
          "choropleth": [
           {
            "colorbar": {
             "outlinewidth": 0,
             "ticks": ""
            },
            "type": "choropleth"
           }
          ],
          "contour": [
           {
            "colorbar": {
             "outlinewidth": 0,
             "ticks": ""
            },
            "colorscale": [
             [
              0,
              "#0d0887"
             ],
             [
              0.1111111111111111,
              "#46039f"
             ],
             [
              0.2222222222222222,
              "#7201a8"
             ],
             [
              0.3333333333333333,
              "#9c179e"
             ],
             [
              0.4444444444444444,
              "#bd3786"
             ],
             [
              0.5555555555555556,
              "#d8576b"
             ],
             [
              0.6666666666666666,
              "#ed7953"
             ],
             [
              0.7777777777777778,
              "#fb9f3a"
             ],
             [
              0.8888888888888888,
              "#fdca26"
             ],
             [
              1,
              "#f0f921"
             ]
            ],
            "type": "contour"
           }
          ],
          "contourcarpet": [
           {
            "colorbar": {
             "outlinewidth": 0,
             "ticks": ""
            },
            "type": "contourcarpet"
           }
          ],
          "heatmap": [
           {
            "colorbar": {
             "outlinewidth": 0,
             "ticks": ""
            },
            "colorscale": [
             [
              0,
              "#0d0887"
             ],
             [
              0.1111111111111111,
              "#46039f"
             ],
             [
              0.2222222222222222,
              "#7201a8"
             ],
             [
              0.3333333333333333,
              "#9c179e"
             ],
             [
              0.4444444444444444,
              "#bd3786"
             ],
             [
              0.5555555555555556,
              "#d8576b"
             ],
             [
              0.6666666666666666,
              "#ed7953"
             ],
             [
              0.7777777777777778,
              "#fb9f3a"
             ],
             [
              0.8888888888888888,
              "#fdca26"
             ],
             [
              1,
              "#f0f921"
             ]
            ],
            "type": "heatmap"
           }
          ],
          "heatmapgl": [
           {
            "colorbar": {
             "outlinewidth": 0,
             "ticks": ""
            },
            "colorscale": [
             [
              0,
              "#0d0887"
             ],
             [
              0.1111111111111111,
              "#46039f"
             ],
             [
              0.2222222222222222,
              "#7201a8"
             ],
             [
              0.3333333333333333,
              "#9c179e"
             ],
             [
              0.4444444444444444,
              "#bd3786"
             ],
             [
              0.5555555555555556,
              "#d8576b"
             ],
             [
              0.6666666666666666,
              "#ed7953"
             ],
             [
              0.7777777777777778,
              "#fb9f3a"
             ],
             [
              0.8888888888888888,
              "#fdca26"
             ],
             [
              1,
              "#f0f921"
             ]
            ],
            "type": "heatmapgl"
           }
          ],
          "histogram": [
           {
            "marker": {
             "pattern": {
              "fillmode": "overlay",
              "size": 10,
              "solidity": 0.2
             }
            },
            "type": "histogram"
           }
          ],
          "histogram2d": [
           {
            "colorbar": {
             "outlinewidth": 0,
             "ticks": ""
            },
            "colorscale": [
             [
              0,
              "#0d0887"
             ],
             [
              0.1111111111111111,
              "#46039f"
             ],
             [
              0.2222222222222222,
              "#7201a8"
             ],
             [
              0.3333333333333333,
              "#9c179e"
             ],
             [
              0.4444444444444444,
              "#bd3786"
             ],
             [
              0.5555555555555556,
              "#d8576b"
             ],
             [
              0.6666666666666666,
              "#ed7953"
             ],
             [
              0.7777777777777778,
              "#fb9f3a"
             ],
             [
              0.8888888888888888,
              "#fdca26"
             ],
             [
              1,
              "#f0f921"
             ]
            ],
            "type": "histogram2d"
           }
          ],
          "histogram2dcontour": [
           {
            "colorbar": {
             "outlinewidth": 0,
             "ticks": ""
            },
            "colorscale": [
             [
              0,
              "#0d0887"
             ],
             [
              0.1111111111111111,
              "#46039f"
             ],
             [
              0.2222222222222222,
              "#7201a8"
             ],
             [
              0.3333333333333333,
              "#9c179e"
             ],
             [
              0.4444444444444444,
              "#bd3786"
             ],
             [
              0.5555555555555556,
              "#d8576b"
             ],
             [
              0.6666666666666666,
              "#ed7953"
             ],
             [
              0.7777777777777778,
              "#fb9f3a"
             ],
             [
              0.8888888888888888,
              "#fdca26"
             ],
             [
              1,
              "#f0f921"
             ]
            ],
            "type": "histogram2dcontour"
           }
          ],
          "mesh3d": [
           {
            "colorbar": {
             "outlinewidth": 0,
             "ticks": ""
            },
            "type": "mesh3d"
           }
          ],
          "parcoords": [
           {
            "line": {
             "colorbar": {
              "outlinewidth": 0,
              "ticks": ""
             }
            },
            "type": "parcoords"
           }
          ],
          "pie": [
           {
            "automargin": true,
            "type": "pie"
           }
          ],
          "scatter": [
           {
            "fillpattern": {
             "fillmode": "overlay",
             "size": 10,
             "solidity": 0.2
            },
            "type": "scatter"
           }
          ],
          "scatter3d": [
           {
            "line": {
             "colorbar": {
              "outlinewidth": 0,
              "ticks": ""
             }
            },
            "marker": {
             "colorbar": {
              "outlinewidth": 0,
              "ticks": ""
             }
            },
            "type": "scatter3d"
           }
          ],
          "scattercarpet": [
           {
            "marker": {
             "colorbar": {
              "outlinewidth": 0,
              "ticks": ""
             }
            },
            "type": "scattercarpet"
           }
          ],
          "scattergeo": [
           {
            "marker": {
             "colorbar": {
              "outlinewidth": 0,
              "ticks": ""
             }
            },
            "type": "scattergeo"
           }
          ],
          "scattergl": [
           {
            "marker": {
             "colorbar": {
              "outlinewidth": 0,
              "ticks": ""
             }
            },
            "type": "scattergl"
           }
          ],
          "scattermapbox": [
           {
            "marker": {
             "colorbar": {
              "outlinewidth": 0,
              "ticks": ""
             }
            },
            "type": "scattermapbox"
           }
          ],
          "scatterpolar": [
           {
            "marker": {
             "colorbar": {
              "outlinewidth": 0,
              "ticks": ""
             }
            },
            "type": "scatterpolar"
           }
          ],
          "scatterpolargl": [
           {
            "marker": {
             "colorbar": {
              "outlinewidth": 0,
              "ticks": ""
             }
            },
            "type": "scatterpolargl"
           }
          ],
          "scatterternary": [
           {
            "marker": {
             "colorbar": {
              "outlinewidth": 0,
              "ticks": ""
             }
            },
            "type": "scatterternary"
           }
          ],
          "surface": [
           {
            "colorbar": {
             "outlinewidth": 0,
             "ticks": ""
            },
            "colorscale": [
             [
              0,
              "#0d0887"
             ],
             [
              0.1111111111111111,
              "#46039f"
             ],
             [
              0.2222222222222222,
              "#7201a8"
             ],
             [
              0.3333333333333333,
              "#9c179e"
             ],
             [
              0.4444444444444444,
              "#bd3786"
             ],
             [
              0.5555555555555556,
              "#d8576b"
             ],
             [
              0.6666666666666666,
              "#ed7953"
             ],
             [
              0.7777777777777778,
              "#fb9f3a"
             ],
             [
              0.8888888888888888,
              "#fdca26"
             ],
             [
              1,
              "#f0f921"
             ]
            ],
            "type": "surface"
           }
          ],
          "table": [
           {
            "cells": {
             "fill": {
              "color": "#EBF0F8"
             },
             "line": {
              "color": "white"
             }
            },
            "header": {
             "fill": {
              "color": "#C8D4E3"
             },
             "line": {
              "color": "white"
             }
            },
            "type": "table"
           }
          ]
         },
         "layout": {
          "annotationdefaults": {
           "arrowcolor": "#2a3f5f",
           "arrowhead": 0,
           "arrowwidth": 1
          },
          "autotypenumbers": "strict",
          "coloraxis": {
           "colorbar": {
            "outlinewidth": 0,
            "ticks": ""
           }
          },
          "colorscale": {
           "diverging": [
            [
             0,
             "#8e0152"
            ],
            [
             0.1,
             "#c51b7d"
            ],
            [
             0.2,
             "#de77ae"
            ],
            [
             0.3,
             "#f1b6da"
            ],
            [
             0.4,
             "#fde0ef"
            ],
            [
             0.5,
             "#f7f7f7"
            ],
            [
             0.6,
             "#e6f5d0"
            ],
            [
             0.7,
             "#b8e186"
            ],
            [
             0.8,
             "#7fbc41"
            ],
            [
             0.9,
             "#4d9221"
            ],
            [
             1,
             "#276419"
            ]
           ],
           "sequential": [
            [
             0,
             "#0d0887"
            ],
            [
             0.1111111111111111,
             "#46039f"
            ],
            [
             0.2222222222222222,
             "#7201a8"
            ],
            [
             0.3333333333333333,
             "#9c179e"
            ],
            [
             0.4444444444444444,
             "#bd3786"
            ],
            [
             0.5555555555555556,
             "#d8576b"
            ],
            [
             0.6666666666666666,
             "#ed7953"
            ],
            [
             0.7777777777777778,
             "#fb9f3a"
            ],
            [
             0.8888888888888888,
             "#fdca26"
            ],
            [
             1,
             "#f0f921"
            ]
           ],
           "sequentialminus": [
            [
             0,
             "#0d0887"
            ],
            [
             0.1111111111111111,
             "#46039f"
            ],
            [
             0.2222222222222222,
             "#7201a8"
            ],
            [
             0.3333333333333333,
             "#9c179e"
            ],
            [
             0.4444444444444444,
             "#bd3786"
            ],
            [
             0.5555555555555556,
             "#d8576b"
            ],
            [
             0.6666666666666666,
             "#ed7953"
            ],
            [
             0.7777777777777778,
             "#fb9f3a"
            ],
            [
             0.8888888888888888,
             "#fdca26"
            ],
            [
             1,
             "#f0f921"
            ]
           ]
          },
          "colorway": [
           "#636efa",
           "#EF553B",
           "#00cc96",
           "#ab63fa",
           "#FFA15A",
           "#19d3f3",
           "#FF6692",
           "#B6E880",
           "#FF97FF",
           "#FECB52"
          ],
          "font": {
           "color": "#2a3f5f"
          },
          "geo": {
           "bgcolor": "white",
           "lakecolor": "white",
           "landcolor": "#E5ECF6",
           "showlakes": true,
           "showland": true,
           "subunitcolor": "white"
          },
          "hoverlabel": {
           "align": "left"
          },
          "hovermode": "closest",
          "mapbox": {
           "style": "light"
          },
          "paper_bgcolor": "white",
          "plot_bgcolor": "#E5ECF6",
          "polar": {
           "angularaxis": {
            "gridcolor": "white",
            "linecolor": "white",
            "ticks": ""
           },
           "bgcolor": "#E5ECF6",
           "radialaxis": {
            "gridcolor": "white",
            "linecolor": "white",
            "ticks": ""
           }
          },
          "scene": {
           "xaxis": {
            "backgroundcolor": "#E5ECF6",
            "gridcolor": "white",
            "gridwidth": 2,
            "linecolor": "white",
            "showbackground": true,
            "ticks": "",
            "zerolinecolor": "white"
           },
           "yaxis": {
            "backgroundcolor": "#E5ECF6",
            "gridcolor": "white",
            "gridwidth": 2,
            "linecolor": "white",
            "showbackground": true,
            "ticks": "",
            "zerolinecolor": "white"
           },
           "zaxis": {
            "backgroundcolor": "#E5ECF6",
            "gridcolor": "white",
            "gridwidth": 2,
            "linecolor": "white",
            "showbackground": true,
            "ticks": "",
            "zerolinecolor": "white"
           }
          },
          "shapedefaults": {
           "line": {
            "color": "#2a3f5f"
           }
          },
          "ternary": {
           "aaxis": {
            "gridcolor": "white",
            "linecolor": "white",
            "ticks": ""
           },
           "baxis": {
            "gridcolor": "white",
            "linecolor": "white",
            "ticks": ""
           },
           "bgcolor": "#E5ECF6",
           "caxis": {
            "gridcolor": "white",
            "linecolor": "white",
            "ticks": ""
           }
          },
          "title": {
           "x": 0.05
          },
          "xaxis": {
           "automargin": true,
           "gridcolor": "white",
           "linecolor": "white",
           "ticks": "",
           "title": {
            "standoff": 15
           },
           "zerolinecolor": "white",
           "zerolinewidth": 2
          },
          "yaxis": {
           "automargin": true,
           "gridcolor": "white",
           "linecolor": "white",
           "ticks": "",
           "title": {
            "standoff": 15
           },
           "zerolinecolor": "white",
           "zerolinewidth": 2
          }
         }
        },
        "title": {
         "text": "Agglomerative Hierarchical Clustering"
        }
       }
      }
     },
     "metadata": {},
     "output_type": "display_data"
    }
   ],
   "source": [
    "import pandas as pd\n",
    "import numpy as np\n",
    "import matplotlib.pyplot as plt\n",
    "from sklearn.preprocessing import StandardScaler\n",
    "from sklearn.cluster import AgglomerativeClustering\n",
    "from sklearn.metrics import silhouette_score\n",
    "import plotly.express as px\n",
    "\n",
    "\n",
    "scaler = StandardScaler()\n",
    "X_scaled = scaler.fit_transform(X)\n",
    "\n",
    "best_score = -1\n",
    "best_k = -1\n",
    "best_clusters = None\n",
    "silhouette_scores = []\n",
    "\n",
    "for k in range(2, 9):\n",
    "    agg_clustering = AgglomerativeClustering(n_clusters=k)\n",
    "    clusters = agg_clustering.fit_predict(X_scaled)\n",
    "    silhouette_avg = silhouette_score(X_scaled, clusters)\n",
    "    silhouette_scores.append(silhouette_avg)\n",
    "\n",
    "plt.figure(figsize=(5, 4))\n",
    "plt.plot(range(2, 9), silhouette_scores, marker='o', linestyle='-')\n",
    "plt.title('Nombre de cluster et Score Silhouette')\n",
    "plt.xlabel('Nombre de Clusters (k)')\n",
    "plt.ylabel('Score Silhouette')\n",
    "plt.xticks(range(2, 9))\n",
    "plt.grid(True)\n",
    "plt.show()\n",
    "\n",
    "best_k = np.argmax(silhouette_scores) + 2 \n",
    "\n",
    "print(f\"Best number of clusters found: {best_k}\")\n",
    "\n",
    "agg_clustering = AgglomerativeClustering(n_clusters=best_k)\n",
    "best_clusters = agg_clustering.fit_predict(X_scaled)\n",
    "\n",
    "df_agg = data.copy()\n",
    "df_agg['Cluster'] = best_clusters\n",
    "\n",
    "fig = px.choropleth(df_agg, \n",
    "                    locations='Country', \n",
    "                    locationmode='country names',\n",
    "                    color='Cluster',\n",
    "                    hover_name='Country',\n",
    "                    hover_data=['Cluster'],\n",
    "                    title='Agglomerative Hierarchical Clustering', \n",
    "                    color_continuous_scale='Viridis')\n",
    "fig.update_coloraxes(colorbar_title=\"Clusters\")\n",
    "fig.show()\n"
   ]
  },
  {
   "cell_type": "code",
   "execution_count": 168,
   "metadata": {},
   "outputs": [
    {
     "data": {
      "image/png": "[encoded data removed]",
      "text/plain": [
       "<Figure size 800x600 with 1 Axes>"
      ]
     },
     "metadata": {},
     "output_type": "display_data"
    }
   ],
   "source": [
    "from scipy.cluster.hierarchy import dendrogram, linkage\n",
    "from sklearn.cluster import AgglomerativeClustering\n",
    "import matplotlib.pyplot as plt\n",
    "\n",
    "agg_clustering = AgglomerativeClustering(n_clusters=best_k)\n",
    "best_clusters = agg_clustering.fit_predict(X_scaled)\n",
    "\n",
    "Z = linkage(X_scaled, 'ward')\n",
    "\n",
    "plt.figure(figsize=(8, 6))\n",
    "dendrogram(Z)\n",
    "plt.title('Dendrogramme')\n",
    "plt.xlabel('Samples')\n",
    "plt.ylabel('Distance')\n",
    "plt.show()\n"
   ]
  },
  {
   "cell_type": "markdown",
   "metadata": {},
   "source": []
  }
 ],
 "metadata": {
  "kernelspec": {
   "display_name": "Python 3",
   "language": "python",
   "name": "python3"
  },
  "language_info": {
   "codemirror_mode": {
    "name": "ipython",
    "version": 3
   },
   "file_extension": ".py",
   "mimetype": "text/x-python",
   "name": "python",
   "nbconvert_exporter": "python",
   "pygments_lexer": "ipython3",
   "version": "3.12.1"
  }
 },
 "nbformat": 4,
 "nbformat_minor": 2
}
